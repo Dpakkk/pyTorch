{
 "cells": [
  {
   "cell_type": "markdown",
   "metadata": {},
   "source": [
    "#### Instructions:  \n",
    "1. Libraries allowed: **Python basic libraries, numpy, and pytorch.**\n",
    "2. Show all outputs.\n",
    "3. Submit jupyter notebook and a pdf export of the notebook. \n",
    "4. For practice examples, change variable name, shape, mathematical operations, nummerical values, tensor sizes etc. Be creative!\n",
    "\n",
    "\n",
    "## Introduction\n",
    "In this assignment, you will learn the basics of pytorch through practicing examples in pytorch tutorials and get familarrity with  some of the pytorch functions and classes required for building NN models."
   ]
  },
  {
   "cell_type": "markdown",
   "metadata": {},
   "source": [
    "### Basics\n",
    "#### Q1 \n",
    "#### a) Tensors \n",
    "Complete the pytorch tutorial at https://pytorch.org/tutorials/beginner/basics/tensorqs_tutorial.html. For each of the concepts presetned in the tutorial, create your own example, which should be different from the tutorial as much as possible.  You must change the tensor,  variable name, numbers/numerical values, and mathematical operations (e.g, replace sum with multiplication), dimesnions. For exmaple, instead of 2-dimensional tensor in the first example, you should create 3 or 4 dimensional tensors with its elements randomly selected.\n",
    "\n",
    "Add as many cells below as needed."
   ]
  },
  {
   "cell_type": "code",
   "execution_count": 2,
   "metadata": {},
   "outputs": [],
   "source": [
    "import torch\n",
    "# create a 3D tensor with random elements\n",
    "data = [[[1, 2, 3],[4, 5, 6]],\n",
    "[[7, 8, 9],[10, 11, 12]],\n",
    "[[13, 14, 15],[16, 17, 18]]]\n",
    "x_data = torch.tensor(data)"
   ]
  },
  {
   "cell_type": "code",
   "execution_count": 3,
   "metadata": {},
   "outputs": [
    {
     "name": "stdout",
     "output_type": "stream",
     "text": [
      "Ones Tensor: \n",
      " tensor([[[1, 1, 1],\n",
      "         [1, 1, 1]],\n",
      "\n",
      "        [[1, 1, 1],\n",
      "         [1, 1, 1]],\n",
      "\n",
      "        [[1, 1, 1],\n",
      "         [1, 1, 1]]]) \n",
      "\n"
     ]
    }
   ],
   "source": [
    "# create a tensor with all ones with the same shape as x_data\n",
    "x_ones = torch.ones_like(x_data)\n",
    "print(f\"Ones Tensor: \\n {x_ones} \\n\")"
   ]
  },
  {
   "cell_type": "code",
   "execution_count": 4,
   "metadata": {},
   "outputs": [
    {
     "name": "stdout",
     "output_type": "stream",
     "text": [
      "Random Tensor: \n",
      " tensor([[[0.5997, 0.7895, 0.4562],\n",
      "         [0.9853, 0.7005, 0.9501]],\n",
      "\n",
      "        [[0.7160, 0.6089, 0.9914],\n",
      "         [0.4117, 0.0057, 0.6032]],\n",
      "\n",
      "        [[0.2571, 0.8459, 0.2079],\n",
      "         [0.3095, 0.6695, 0.1256]]]) \n",
      "\n"
     ]
    }
   ],
   "source": [
    "#Create a tensor with random elements with the same shape as x_data\n",
    "x_rand = torch.rand_like(x_data, dtype=torch.float)\n",
    "print(f\"Random Tensor: \\n {x_rand} \\n\")"
   ]
  },
  {
   "cell_type": "code",
   "execution_count": 5,
   "metadata": {},
   "outputs": [
    {
     "name": "stdout",
     "output_type": "stream",
     "text": [
      "Zeros Tensor: \n",
      " tensor([[[[0., 0.],\n",
      "          [0., 0.]],\n",
      "\n",
      "         [[0., 0.],\n",
      "          [0., 0.]],\n",
      "\n",
      "         [[0., 0.],\n",
      "          [0., 0.]]],\n",
      "\n",
      "\n",
      "        [[[0., 0.],\n",
      "          [0., 0.]],\n",
      "\n",
      "         [[0., 0.],\n",
      "          [0., 0.]],\n",
      "\n",
      "         [[0., 0.],\n",
      "          [0., 0.]]]])\n"
     ]
    }
   ],
   "source": [
    "# Create a 4D tensor with all zeros\n",
    "shape = (2, 3, 2, 2)\n",
    "zeros_tensor = torch.zeros(shape)\n",
    "print(f\"Zeros Tensor: \\n {zeros_tensor}\")\n"
   ]
  },
  {
   "cell_type": "code",
   "execution_count": 6,
   "metadata": {},
   "outputs": [
    {
     "name": "stdout",
     "output_type": "stream",
     "text": [
      "tensor([[[0.1177, 0.8063, 0.1279, 0.9512],\n",
      "         [0.4100, 0.1460, 0.9032, 0.9833],\n",
      "         [0.5340, 0.7847, 0.5825, 0.5940]],\n",
      "\n",
      "        [[0.0190, 0.2178, 0.9665, 0.1155],\n",
      "         [0.2723, 0.9841, 0.2613, 0.1089],\n",
      "         [0.1897, 0.6965, 0.3593, 0.1268]]])\n"
     ]
    }
   ],
   "source": [
    "# Create a tensor with random elements with the given shape\n",
    "rand_tensor = torch.rand((2, 3, 4))\n",
    "print(rand_tensor)"
   ]
  },
  {
   "cell_type": "code",
   "execution_count": 7,
   "metadata": {},
   "outputs": [
    {
     "name": "stdout",
     "output_type": "stream",
     "text": [
      "tensor([[[1., 1., 1., 1.],\n",
      "         [1., 1., 1., 1.],\n",
      "         [1., 1., 1., 1.]],\n",
      "\n",
      "        [[1., 1., 1., 1.],\n",
      "         [1., 1., 1., 1.],\n",
      "         [1., 1., 1., 1.]]])\n"
     ]
    }
   ],
   "source": [
    "#Create a tensor with all ones with the given shape\n",
    "ones_tensor = torch.ones((2, 3, 4))\n",
    "print(ones_tensor)"
   ]
  },
  {
   "cell_type": "code",
   "execution_count": 9,
   "metadata": {},
   "outputs": [
    {
     "name": "stdout",
     "output_type": "stream",
     "text": [
      "Added Tensor: \n",
      " tensor([[[1.1177, 1.8063, 1.1279, 1.9512],\n",
      "         [1.4100, 1.1460, 1.9032, 1.9833],\n",
      "         [1.5340, 1.7847, 1.5825, 1.5940]],\n",
      "\n",
      "        [[1.0190, 1.2178, 1.9665, 1.1155],\n",
      "         [1.2723, 1.9841, 1.2613, 1.1089],\n",
      "         [1.1897, 1.6965, 1.3593, 1.1268]]])\n"
     ]
    }
   ],
   "source": [
    "#Add the two tensors element-wise\n",
    "added_tensor = rand_tensor + ones_tensor\n",
    "print(f\"Added Tensor: \\n {added_tensor}\")\n"
   ]
  },
  {
   "cell_type": "code",
   "execution_count": 10,
   "metadata": {},
   "outputs": [
    {
     "name": "stdout",
     "output_type": "stream",
     "text": [
      "Multiplied Tensor: \n",
      " tensor([[[0.1177, 0.8063, 0.1279, 0.9512],\n",
      "         [0.4100, 0.1460, 0.9032, 0.9833],\n",
      "         [0.5340, 0.7847, 0.5825, 0.5940]],\n",
      "\n",
      "        [[0.0190, 0.2178, 0.9665, 0.1155],\n",
      "         [0.2723, 0.9841, 0.2613, 0.1089],\n",
      "         [0.1897, 0.6965, 0.3593, 0.1268]]])\n"
     ]
    }
   ],
   "source": [
    "#Multiply the two tensors element-wise\n",
    "multiplied_tensor = rand_tensor * ones_tensor\n",
    "print(f\"Multiplied Tensor: \\n {multiplied_tensor}\")"
   ]
  },
  {
   "cell_type": "code",
   "execution_count": 11,
   "metadata": {},
   "outputs": [
    {
     "name": "stdout",
     "output_type": "stream",
     "text": [
      "Mean of Multiplied Tensor: 0.46910563111305237\n"
     ]
    }
   ],
   "source": [
    "#Compute the mean of the multiplied tensor\n",
    "mean = multiplied_tensor.mean()\n",
    "print(f\"Mean of Multiplied Tensor: {mean}\")"
   ]
  },
  {
   "cell_type": "code",
   "execution_count": 12,
   "metadata": {},
   "outputs": [
    {
     "name": "stdout",
     "output_type": "stream",
     "text": [
      "Sum along the first dimension: \n",
      " tensor([[1.0618, 1.7369, 1.6137, 2.5285],\n",
      "        [0.4811, 1.8983, 1.5871, 0.3512]])\n"
     ]
    }
   ],
   "source": [
    "#Compute the sum of the multiplied tensor along the first dimension\n",
    "sum_along_dim1 = multiplied_tensor.sum(dim=1)\n",
    "print(f\"Sum along the first dimension: \\n {sum_along_dim1}\")"
   ]
  },
  {
   "cell_type": "code",
   "execution_count": 14,
   "metadata": {},
   "outputs": [
    {
     "name": "stdout",
     "output_type": "stream",
     "text": [
      "Product Tensor: \n",
      " tensor([[ 1.0490e-04, -1.1265e+00, -7.1441e-02, -1.9555e+00,  3.6324e-02],\n",
      "        [ 1.4590e+00,  2.0406e+00, -8.7784e-03,  2.5693e+00, -1.7473e-01],\n",
      "        [-4.9755e-01, -2.0409e+00,  7.5529e-01, -3.8621e+00, -1.1091e-01]])\n"
     ]
    }
   ],
   "source": [
    "#Compute the matrix multiplication between two tensors\n",
    "tensor1 = torch.randn(3, 4)\n",
    "tensor2 = torch.randn(4, 5)\n",
    "product_tensor = tensor1 @ tensor2\n",
    "print(f\"Product Tensor: \\n {product_tensor}\")"
   ]
  },
  {
   "cell_type": "code",
   "execution_count": 19,
   "metadata": {},
   "outputs": [
    {
     "name": "stdout",
     "output_type": "stream",
     "text": [
      "Product Tensor: \n",
      " tensor([[ 1.0490e-04, -1.1265e+00, -7.1441e-02, -1.9555e+00,  3.6324e-02],\n",
      "        [ 1.4590e+00,  2.0406e+00, -8.7784e-03,  2.5693e+00, -1.7473e-01],\n",
      "        [-4.9755e-01, -2.0409e+00,  7.5529e-01, -3.8621e+00, -1.1091e-01]])\n"
     ]
    }
   ],
   "source": [
    "#Compute the dot product between two tensors\n",
    "product_tensor = tensor1 @ tensor2\n",
    "print(f\"Product Tensor: \\n {product_tensor}\")\n"
   ]
  },
  {
   "cell_type": "code",
   "execution_count": null,
   "metadata": {},
   "outputs": [],
   "source": []
  },
  {
   "cell_type": "code",
   "execution_count": 22,
   "metadata": {},
   "outputs": [],
   "source": [
    "import torch\n",
    "\n",
    "# create a 3x3x3x3 tensor with random elements\n",
    "tensor1 = torch.rand(3, 3, 3, 3)\n",
    "\n",
    "# element-wise product using tensor.mul()\n",
    "z1 = tensor1.mul(tensor1)\n",
    "\n",
    "# element-wise product using torch.mul()\n",
    "z2 = torch.mul(tensor1, tensor1)\n",
    "\n",
    "# create a 3x3x3x3 tensor with random elements\n",
    "z3 = torch.rand_like(tensor1)\n",
    "\n",
    "# element-wise product using torch.mul() and output to z3\n",
    "torch.mul(tensor1, tensor1, out=z3)\n",
    "\n",
    "# compute the element-wise square root of z1\n",
    "z4 = torch.sqrt(z1)\n",
    "\n",
    "# compute the element-wise power of 3 for z2\n",
    "z5 = torch.pow(z2, 3)\n",
    "\n"
   ]
  },
  {
   "cell_type": "code",
   "execution_count": 23,
   "metadata": {},
   "outputs": [
    {
     "data": {
      "text/plain": [
       "tensor([[[[5.4378, 5.2899, 5.3430],\n",
       "          [5.4081, 5.4640, 5.2783],\n",
       "          [5.7193, 5.3239, 5.3723]],\n",
       "\n",
       "         [[5.5903, 5.2122, 5.8019],\n",
       "          [5.2346, 5.7640, 5.5927],\n",
       "          [5.2256, 5.2791, 5.2803]],\n",
       "\n",
       "         [[5.4287, 5.4690, 5.8147],\n",
       "          [5.5843, 5.8274, 5.2403],\n",
       "          [5.3743, 5.8171, 5.0110]]],\n",
       "\n",
       "\n",
       "        [[[5.2207, 5.7178, 5.1221],\n",
       "          [5.7569, 5.7423, 5.3963],\n",
       "          [5.9858, 5.0556, 5.3526]],\n",
       "\n",
       "         [[5.9046, 5.3615, 5.3391],\n",
       "          [5.5855, 5.7856, 5.4015],\n",
       "          [5.7710, 5.8275, 5.4688]],\n",
       "\n",
       "         [[5.6909, 5.4496, 5.8762],\n",
       "          [5.4129, 5.1584, 5.0500],\n",
       "          [5.4859, 5.3173, 5.3099]]],\n",
       "\n",
       "\n",
       "        [[[5.6783, 5.1087, 5.1088],\n",
       "          [5.2577, 5.7161, 5.6641],\n",
       "          [5.9160, 5.6178, 5.0914]],\n",
       "\n",
       "         [[5.3041, 5.3488, 5.1778],\n",
       "          [5.2199, 5.4690, 5.3737],\n",
       "          [5.0102, 5.1359, 5.7874]],\n",
       "\n",
       "         [[5.6017, 5.6009, 5.7265],\n",
       "          [5.8412, 5.0191, 5.5170],\n",
       "          [5.3706, 5.3349, 5.1821]]]])"
      ]
     },
     "execution_count": 23,
     "metadata": {},
     "output_type": "execute_result"
    }
   ],
   "source": [
    "\n",
    "# compute the maximum element value of tensor1\n",
    "max_val = tensor1.max()\n",
    "\n",
    "# compute the sum of all elements in tensor1\n",
    "agg = tensor1.sum()\n",
    "\n",
    "# convert tensor1 to a numpy array\n",
    "tensor1_np = tensor1.numpy()\n",
    "\n",
    "# add 5 to all elements of tensor1 using tensor.add_()\n",
    "tensor1.add_(5)\n"
   ]
  },
  {
   "cell_type": "code",
   "execution_count": 24,
   "metadata": {},
   "outputs": [
    {
     "data": {
      "text/plain": [
       "tensor([[3., 3., 3., 3.],\n",
       "        [3., 3., 3., 3.],\n",
       "        [3., 3., 3., 3.],\n",
       "        [3., 3., 3., 3.]])"
      ]
     },
     "execution_count": 24,
     "metadata": {},
     "output_type": "execute_result"
    }
   ],
   "source": [
    "\n",
    "# create a tensor of ones with shape (4, 4)\n",
    "t = torch.ones(4, 4)\n",
    "\n",
    "# convert t to a numpy array\n",
    "n = t.numpy()\n",
    "\n",
    "# add 2 to all elements of t using tensor.add_()\n",
    "t.add_(2)"
   ]
  },
  {
   "cell_type": "code",
   "execution_count": 25,
   "metadata": {},
   "outputs": [
    {
     "name": "stdout",
     "output_type": "stream",
     "text": [
      "tensor1:\n",
      "tensor([[[[5.4378, 5.2899, 5.3430],\n",
      "          [5.4081, 5.4640, 5.2783],\n",
      "          [5.7193, 5.3239, 5.3723]],\n",
      "\n",
      "         [[5.5903, 5.2122, 5.8019],\n",
      "          [5.2346, 5.7640, 5.5927],\n",
      "          [5.2256, 5.2791, 5.2803]],\n",
      "\n",
      "         [[5.4287, 5.4690, 5.8147],\n",
      "          [5.5843, 5.8274, 5.2403],\n",
      "          [5.3743, 5.8171, 5.0110]]],\n",
      "\n",
      "\n",
      "        [[[5.2207, 5.7178, 5.1221],\n",
      "          [5.7569, 5.7423, 5.3963],\n",
      "          [5.9858, 5.0556, 5.3526]],\n",
      "\n",
      "         [[5.9046, 5.3615, 5.3391],\n",
      "          [5.5855, 5.7856, 5.4015],\n",
      "          [5.7710, 5.8275, 5.4688]],\n",
      "\n",
      "         [[5.6909, 5.4496, 5.8762],\n",
      "          [5.4129, 5.1584, 5.0500],\n",
      "          [5.4859, 5.3173, 5.3099]]],\n",
      "\n",
      "\n",
      "        [[[5.6783, 5.1087, 5.1088],\n",
      "          [5.2577, 5.7161, 5.6641],\n",
      "          [5.9160, 5.6178, 5.0914]],\n",
      "\n",
      "         [[5.3041, 5.3488, 5.1778],\n",
      "          [5.2199, 5.4690, 5.3737],\n",
      "          [5.0102, 5.1359, 5.7874]],\n",
      "\n",
      "         [[5.6017, 5.6009, 5.7265],\n",
      "          [5.8412, 5.0191, 5.5170],\n",
      "          [5.3706, 5.3349, 5.1821]]]])\n",
      "\n",
      "z1:\n",
      "tensor([[[[1.9164e-01, 8.4040e-02, 1.1764e-01],\n",
      "          [1.6657e-01, 2.1527e-01, 7.7438e-02],\n",
      "          [5.1746e-01, 1.0491e-01, 1.3864e-01]],\n",
      "\n",
      "         [[3.4841e-01, 4.5028e-02, 6.4299e-01],\n",
      "          [5.5035e-02, 5.8376e-01, 3.5134e-01],\n",
      "          [5.0894e-02, 7.7902e-02, 7.8568e-02]],\n",
      "\n",
      "         [[1.8375e-01, 2.1999e-01, 6.6378e-01],\n",
      "          [3.4136e-01, 6.8460e-01, 5.7767e-02],\n",
      "          [1.4009e-01, 6.6763e-01, 1.2162e-04]]],\n",
      "\n",
      "\n",
      "        [[[4.8691e-02, 5.1524e-01, 1.4917e-02],\n",
      "          [5.7296e-01, 5.5099e-01, 1.5706e-01],\n",
      "          [9.7177e-01, 3.0920e-03, 1.2431e-01]],\n",
      "\n",
      "         [[8.1832e-01, 1.3066e-01, 1.1500e-01],\n",
      "          [3.4277e-01, 6.1714e-01, 1.6119e-01],\n",
      "          [5.9439e-01, 6.8474e-01, 2.1975e-01]],\n",
      "\n",
      "         [[4.7732e-01, 2.0218e-01, 7.6777e-01],\n",
      "          [1.7048e-01, 2.5078e-02, 2.5006e-03],\n",
      "          [2.3607e-01, 1.0067e-01, 9.6044e-02]]],\n",
      "\n",
      "\n",
      "        [[[4.6007e-01, 1.1814e-02, 1.1836e-02],\n",
      "          [6.6398e-02, 5.1283e-01, 4.4099e-01],\n",
      "          [8.3899e-01, 3.8163e-01, 8.3541e-03]],\n",
      "\n",
      "         [[9.2482e-02, 1.2167e-01, 3.1595e-02],\n",
      "          [4.8334e-02, 2.1995e-01, 1.3967e-01],\n",
      "          [1.0497e-04, 1.8458e-02, 6.1995e-01]],\n",
      "\n",
      "         [[3.6201e-01, 3.6105e-01, 5.2776e-01],\n",
      "          [7.0759e-01, 3.6613e-04, 2.6732e-01],\n",
      "          [1.3734e-01, 1.1216e-01, 3.3147e-02]]]])\n",
      "\n",
      "z2:\n",
      "tensor([[[[1.9164e-01, 8.4040e-02, 1.1764e-01],\n",
      "          [1.6657e-01, 2.1527e-01, 7.7438e-02],\n",
      "          [5.1746e-01, 1.0491e-01, 1.3864e-01]],\n",
      "\n",
      "         [[3.4841e-01, 4.5028e-02, 6.4299e-01],\n",
      "          [5.5035e-02, 5.8376e-01, 3.5134e-01],\n",
      "          [5.0894e-02, 7.7902e-02, 7.8568e-02]],\n",
      "\n",
      "         [[1.8375e-01, 2.1999e-01, 6.6378e-01],\n",
      "          [3.4136e-01, 6.8460e-01, 5.7767e-02],\n",
      "          [1.4009e-01, 6.6763e-01, 1.2162e-04]]],\n",
      "\n",
      "\n",
      "        [[[4.8691e-02, 5.1524e-01, 1.4917e-02],\n",
      "          [5.7296e-01, 5.5099e-01, 1.5706e-01],\n",
      "          [9.7177e-01, 3.0920e-03, 1.2431e-01]],\n",
      "\n",
      "         [[8.1832e-01, 1.3066e-01, 1.1500e-01],\n",
      "          [3.4277e-01, 6.1714e-01, 1.6119e-01],\n",
      "          [5.9439e-01, 6.8474e-01, 2.1975e-01]],\n",
      "\n",
      "         [[4.7732e-01, 2.0218e-01, 7.6777e-01],\n",
      "          [1.7048e-01, 2.5078e-02, 2.5006e-03],\n",
      "          [2.3607e-01, 1.0067e-01, 9.6044e-02]]],\n",
      "\n",
      "\n",
      "        [[[4.6007e-01, 1.1814e-02, 1.1836e-02],\n",
      "          [6.6398e-02, 5.1283e-01, 4.4099e-01],\n",
      "          [8.3899e-01, 3.8163e-01, 8.3541e-03]],\n",
      "\n",
      "         [[9.2482e-02, 1.2167e-01, 3.1595e-02],\n",
      "          [4.8334e-02, 2.1995e-01, 1.3967e-01],\n",
      "          [1.0497e-04, 1.8458e-02, 6.1995e-01]],\n",
      "\n",
      "         [[3.6201e-01, 3.6105e-01, 5.2776e-01],\n",
      "          [7.0759e-01, 3.6613e-04, 2.6732e-01],\n",
      "          [1.3734e-01, 1.1216e-01, 3.3147e-02]]]])\n",
      "\n",
      "z3:\n",
      "tensor([[[[1.9164e-01, 8.4040e-02, 1.1764e-01],\n",
      "          [1.6657e-01, 2.1527e-01, 7.7438e-02],\n",
      "          [5.1746e-01, 1.0491e-01, 1.3864e-01]],\n",
      "\n",
      "         [[3.4841e-01, 4.5028e-02, 6.4299e-01],\n",
      "          [5.5035e-02, 5.8376e-01, 3.5134e-01],\n",
      "          [5.0894e-02, 7.7902e-02, 7.8568e-02]],\n",
      "\n",
      "         [[1.8375e-01, 2.1999e-01, 6.6378e-01],\n",
      "          [3.4136e-01, 6.8460e-01, 5.7767e-02],\n",
      "          [1.4009e-01, 6.6763e-01, 1.2162e-04]]],\n",
      "\n",
      "\n",
      "        [[[4.8691e-02, 5.1524e-01, 1.4917e-02],\n",
      "          [5.7296e-01, 5.5099e-01, 1.5706e-01],\n",
      "          [9.7177e-01, 3.0920e-03, 1.2431e-01]],\n",
      "\n",
      "         [[8.1832e-01, 1.3066e-01, 1.1500e-01],\n",
      "          [3.4277e-01, 6.1714e-01, 1.6119e-01],\n",
      "          [5.9439e-01, 6.8474e-01, 2.1975e-01]],\n",
      "\n",
      "         [[4.7732e-01, 2.0218e-01, 7.6777e-01],\n",
      "          [1.7048e-01, 2.5078e-02, 2.5006e-03],\n",
      "          [2.3607e-01, 1.0067e-01, 9.6044e-02]]],\n",
      "\n",
      "\n",
      "        [[[4.6007e-01, 1.1814e-02, 1.1836e-02],\n",
      "          [6.6398e-02, 5.1283e-01, 4.4099e-01],\n",
      "          [8.3899e-01, 3.8163e-01, 8.3541e-03]],\n",
      "\n",
      "         [[9.2482e-02, 1.2167e-01, 3.1595e-02],\n",
      "          [4.8334e-02, 2.1995e-01, 1.3967e-01],\n",
      "          [1.0497e-04, 1.8458e-02, 6.1995e-01]],\n",
      "\n",
      "         [[3.6201e-01, 3.6105e-01, 5.2776e-01],\n",
      "          [7.0759e-01, 3.6613e-04, 2.6732e-01],\n",
      "          [1.3734e-01, 1.1216e-01, 3.3147e-02]]]])\n",
      "\n",
      "z4:\n",
      "tensor([[[[0.4378, 0.2899, 0.3430],\n",
      "          [0.4081, 0.4640, 0.2783],\n",
      "          [0.7193, 0.3239, 0.3723]],\n",
      "\n",
      "         [[0.5903, 0.2122, 0.8019],\n",
      "          [0.2346, 0.7640, 0.5927],\n",
      "          [0.2256, 0.2791, 0.2803]],\n",
      "\n",
      "         [[0.4287, 0.4690, 0.8147],\n",
      "          [0.5843, 0.8274, 0.2403],\n",
      "          [0.3743, 0.8171, 0.0110]]],\n",
      "\n",
      "\n",
      "        [[[0.2207, 0.7178, 0.1221],\n",
      "          [0.7569, 0.7423, 0.3963],\n",
      "          [0.9858, 0.0556, 0.3526]],\n",
      "\n",
      "         [[0.9046, 0.3615, 0.3391],\n",
      "          [0.5855, 0.7856, 0.4015],\n",
      "          [0.7710, 0.8275, 0.4688]],\n",
      "\n",
      "         [[0.6909, 0.4496, 0.8762],\n",
      "          [0.4129, 0.1584, 0.0500],\n",
      "          [0.4859, 0.3173, 0.3099]]],\n",
      "\n",
      "\n",
      "        [[[0.6783, 0.1087, 0.1088],\n",
      "          [0.2577, 0.7161, 0.6641],\n",
      "          [0.9160, 0.6178, 0.0914]],\n",
      "\n",
      "         [[0.3041, 0.3488, 0.1778],\n",
      "          [0.2198, 0.4690, 0.3737],\n",
      "          [0.0102, 0.1359, 0.7874]],\n",
      "\n",
      "         [[0.6017, 0.6009, 0.7265],\n",
      "          [0.8412, 0.0191, 0.5170],\n",
      "          [0.3706, 0.3349, 0.1821]]]])\n",
      "\n",
      "z5:\n",
      "tensor([[[[7.0377e-03, 5.9355e-04, 1.6280e-03],\n",
      "          [4.6216e-03, 9.9763e-03, 4.6436e-04],\n",
      "          [1.3856e-01, 1.1547e-03, 2.6646e-03]],\n",
      "\n",
      "         [[4.2294e-02, 9.1295e-05, 2.6583e-01],\n",
      "          [1.6669e-04, 1.9893e-01, 4.3369e-02],\n",
      "          [1.3183e-04, 4.7276e-04, 4.8500e-04]],\n",
      "\n",
      "         [[6.2044e-03, 1.0647e-02, 2.9246e-01],\n",
      "          [3.9776e-02, 3.2086e-01, 1.9277e-04],\n",
      "          [2.7496e-03, 2.9759e-01, 1.7990e-12]]],\n",
      "\n",
      "\n",
      "        [[[1.1544e-04, 1.3678e-01, 3.3191e-06],\n",
      "          [1.8809e-01, 1.6727e-01, 3.8744e-03],\n",
      "          [9.1767e-01, 2.9560e-08, 1.9211e-03]],\n",
      "\n",
      "         [[5.4798e-01, 2.2305e-03, 1.5207e-03],\n",
      "          [4.0271e-02, 2.3504e-01, 4.1884e-03],\n",
      "          [2.0999e-01, 3.2105e-01, 1.0612e-02]],\n",
      "\n",
      "         [[1.0875e-01, 8.2646e-03, 4.5258e-01],\n",
      "          [4.9551e-03, 1.5771e-05, 1.5636e-08],\n",
      "          [1.3156e-02, 1.0203e-03, 8.8595e-04]]],\n",
      "\n",
      "\n",
      "        [[[9.7382e-02, 1.6487e-06, 1.6582e-06],\n",
      "          [2.9273e-04, 1.3487e-01, 8.5759e-02],\n",
      "          [5.9056e-01, 5.5582e-02, 5.8303e-07]],\n",
      "\n",
      "         [[7.9099e-04, 1.8009e-03, 3.1541e-05],\n",
      "          [1.1292e-04, 1.0640e-02, 2.7248e-03],\n",
      "          [1.1566e-12, 6.2881e-06, 2.3827e-01]],\n",
      "\n",
      "         [[4.7441e-02, 4.7066e-02, 1.4699e-01],\n",
      "          [3.5427e-01, 4.9081e-11, 1.9103e-02],\n",
      "          [2.5903e-03, 1.4111e-03, 3.6418e-05]]]])\n",
      "\n",
      "max_val:\n",
      "0.985781729221344\n",
      "\n",
      "agg:\n",
      "36.90967559814453\n",
      "\n",
      "tensor1_np:\n",
      "[[[[5.4377627 5.2898965 5.3429856]\n",
      "   [5.4081306 5.463975  5.2782764]\n",
      "   [5.719349  5.3238997 5.372339 ]]\n",
      "\n",
      "  [[5.5902643 5.2121983 5.8018646]\n",
      "   [5.2345943 5.7640405 5.592738 ]\n",
      "   [5.225597  5.279109  5.2803006]]\n",
      "\n",
      "  [[5.4286633 5.469032  5.8147264]\n",
      "   [5.584256  5.827408  5.240348 ]\n",
      "   [5.3742924 5.8170877 5.0110283]]]\n",
      "\n",
      "\n",
      " [[[5.2206607 5.7178    5.122134 ]\n",
      "   [5.7569385 5.7422857 5.3963094]\n",
      "   [5.9857817 5.0556054 5.352581 ]]\n",
      "\n",
      "  [[5.904609  5.3614664 5.33911  ]\n",
      "   [5.5854616 5.7855816 5.40149  ]\n",
      "   [5.770964  5.8274894 5.468774 ]]\n",
      "\n",
      "  [[5.690883  5.449646  5.8762264]\n",
      "   [5.412898  5.158359  5.050006 ]\n",
      "   [5.4858704 5.3172865 5.3099093]]]\n",
      "\n",
      "\n",
      " [[[5.678286  5.10869   5.108794 ]\n",
      "   [5.2576785 5.716123  5.6640697]\n",
      "   [5.9159627 5.617763  5.0914006]]\n",
      "\n",
      "  [[5.3041086 5.3488054 5.177751 ]\n",
      "   [5.21985   5.4689846 5.3737273]\n",
      "   [5.0102453 5.1358585 5.787367 ]]\n",
      "\n",
      "  [[5.6016707 5.600875  5.726468 ]\n",
      "   [5.8411818 5.0191345 5.5170317]\n",
      "   [5.3705883 5.334907  5.182062 ]]]]\n",
      "\n",
      "t:\n",
      "tensor([[3., 3., 3., 3.],\n",
      "        [3., 3., 3., 3.],\n",
      "        [3., 3., 3., 3.],\n",
      "        [3., 3., 3., 3.]])\n",
      "\n",
      "n:\n",
      "[[3. 3. 3. 3.]\n",
      " [3. 3. 3. 3.]\n",
      " [3. 3. 3. 3.]\n",
      " [3. 3. 3. 3.]]\n",
      "\n"
     ]
    }
   ],
   "source": [
    "# print the tensors and values\n",
    "print(f\"tensor1:\\n{tensor1}\\n\")\n",
    "print(f\"z1:\\n{z1}\\n\")\n",
    "print(f\"z2:\\n{z2}\\n\")\n",
    "print(f\"z3:\\n{z3}\\n\")\n",
    "print(f\"z4:\\n{z4}\\n\")\n",
    "print(f\"z5:\\n{z5}\\n\")\n",
    "print(f\"max_val:\\n{max_val}\\n\")\n",
    "print(f\"agg:\\n{agg}\\n\")\n",
    "print(f\"tensor1_np:\\n{tensor1_np}\\n\")\n",
    "print(f\"t:\\n{t}\\n\")\n",
    "print(f\"n:\\n{n}\\n\")"
   ]
  },
  {
   "cell_type": "markdown",
   "metadata": {},
   "source": [
    "#### b) Autormatic differentiation\n",
    "Complete the tutorial at https://pytorch.org/tutorials/beginner/basics/autogradqs_tutorial.html . Again, make changes to the tensor, variable name etc. to make your example completely different from tutorial. Failing to do so will earn you zero credit.\n",
    "\n",
    "Add as many cells below as needed."
   ]
  },
  {
   "cell_type": "code",
   "execution_count": 28,
   "metadata": {},
   "outputs": [],
   "source": [
    "# this is a simplest one-layer neural network, with input x1, parameters we and bi, and some loss function\n",
    "# implemented in pytorch\n",
    "# all the variables names, tensors are changed\n",
    "\n",
    "import torch as t # replacing torch with easy letter\n",
    "\n",
    "x1 = t.ones(3)  # input tensor #x\n",
    "x0 = t.zeros(4)  # expected output #y\n",
    "\n",
    "we = t.randn(3, 4, requires_grad=True) #w\n",
    "bi = t.randn(4, requires_grad=True) #b\n",
    "\n",
    "fun = t.matmul(x1, we)+bi #z\n",
    "lossFunction = t.nn.functional.binary_cross_entropy_with_logits(fun, x0) # loss function\n"
   ]
  },
  {
   "cell_type": "code",
   "execution_count": 29,
   "metadata": {},
   "outputs": [
    {
     "name": "stdout",
     "output_type": "stream",
     "text": [
      "tensor([1., 1., 1.])\n"
     ]
    }
   ],
   "source": [
    "print(x1)"
   ]
  },
  {
   "cell_type": "code",
   "execution_count": 30,
   "metadata": {},
   "outputs": [
    {
     "name": "stdout",
     "output_type": "stream",
     "text": [
      "tensor([0., 0., 0., 0.])\n"
     ]
    }
   ],
   "source": [
    "print(x0)"
   ]
  },
  {
   "cell_type": "code",
   "execution_count": 31,
   "metadata": {},
   "outputs": [
    {
     "name": "stdout",
     "output_type": "stream",
     "text": [
      "tensor([[-0.1804, -1.9022, -0.6872,  1.0594],\n",
      "        [-0.7047, -2.0411, -1.4257,  0.9541],\n",
      "        [-1.3367,  0.2772, -0.4925,  0.1066]], requires_grad=True)\n"
     ]
    }
   ],
   "source": [
    "print(we)"
   ]
  },
  {
   "cell_type": "code",
   "execution_count": 32,
   "metadata": {},
   "outputs": [
    {
     "name": "stdout",
     "output_type": "stream",
     "text": [
      "tensor([ 0.6421, -1.2354,  1.1482, -0.3509], requires_grad=True)\n"
     ]
    }
   ],
   "source": [
    "print(bi)"
   ]
  },
  {
   "cell_type": "code",
   "execution_count": 33,
   "metadata": {},
   "outputs": [
    {
     "name": "stdout",
     "output_type": "stream",
     "text": [
      "tensor([-1.5798, -4.9015, -1.4572,  1.7692], grad_fn=<AddBackward0>)\n"
     ]
    }
   ],
   "source": [
    "print(fun)"
   ]
  },
  {
   "cell_type": "code",
   "execution_count": 34,
   "metadata": {},
   "outputs": [
    {
     "name": "stdout",
     "output_type": "stream",
     "text": [
      "tensor(0.5827, grad_fn=<BinaryCrossEntropyWithLogitsBackward0>)\n"
     ]
    }
   ],
   "source": [
    "print(lossFunction)"
   ]
  },
  {
   "cell_type": "code",
   "execution_count": 35,
   "metadata": {},
   "outputs": [
    {
     "name": "stdout",
     "output_type": "stream",
     "text": [
      "Gradient function for z = <AddBackward0 object at 0x7fc44aefd3a0>\n",
      "Gradient function for loss = <BinaryCrossEntropyWithLogitsBackward0 object at 0x7fc44aefd850>\n"
     ]
    }
   ],
   "source": [
    "print(f\"Gradient function for z = {fun.grad_fn}\")\n",
    "print(f\"Gradient function for loss = {lossFunction.grad_fn}\")"
   ]
  },
  {
   "cell_type": "code",
   "execution_count": 36,
   "metadata": {},
   "outputs": [],
   "source": [
    "# computing gradient"
   ]
  },
  {
   "cell_type": "code",
   "execution_count": 37,
   "metadata": {},
   "outputs": [
    {
     "name": "stdout",
     "output_type": "stream",
     "text": [
      "tensor([[0.0427, 0.0018, 0.0472, 0.2136],\n",
      "        [0.0427, 0.0018, 0.0472, 0.2136],\n",
      "        [0.0427, 0.0018, 0.0472, 0.2136]])\n",
      "tensor([0.0427, 0.0018, 0.0472, 0.2136])\n"
     ]
    }
   ],
   "source": [
    "lossFunction.backward(retain_graph=True)\n",
    "print(we.grad)\n",
    "print(bi.grad)\n"
   ]
  },
  {
   "cell_type": "code",
   "execution_count": 38,
   "metadata": {},
   "outputs": [
    {
     "name": "stdout",
     "output_type": "stream",
     "text": [
      "True\n",
      "False\n"
     ]
    }
   ],
   "source": [
    "# disabling gradient tracking\n",
    "fun = t.matmul(x1, we)+bi\n",
    "print(fun.requires_grad)\n",
    "\n",
    "with t.no_grad():\n",
    "    fun = t.matmul(x1, we)+bi\n",
    "print(fun.requires_grad)"
   ]
  },
  {
   "cell_type": "code",
   "execution_count": 39,
   "metadata": {},
   "outputs": [],
   "source": [
    "# Tensor Gradients and Jacobian Products"
   ]
  },
  {
   "cell_type": "code",
   "execution_count": 40,
   "metadata": {},
   "outputs": [
    {
     "name": "stdout",
     "output_type": "stream",
     "text": [
      "First call\n",
      "tensor([[4., 2., 2., 2., 2.],\n",
      "        [2., 4., 2., 2., 2.],\n",
      "        [2., 2., 4., 2., 2.],\n",
      "        [2., 2., 2., 4., 2.],\n",
      "        [2., 2., 2., 2., 4.],\n",
      "        [2., 2., 2., 2., 2.]])\n",
      "\n",
      "Second call\n",
      "tensor([[8., 4., 4., 4., 4.],\n",
      "        [4., 8., 4., 4., 4.],\n",
      "        [4., 4., 8., 4., 4.],\n",
      "        [4., 4., 4., 8., 4.],\n",
      "        [4., 4., 4., 4., 8.],\n",
      "        [4., 4., 4., 4., 4.]])\n",
      "\n",
      "Call after zeroing gradients\n",
      "tensor([[4., 2., 2., 2., 2.],\n",
      "        [2., 4., 2., 2., 2.],\n",
      "        [2., 2., 4., 2., 2.],\n",
      "        [2., 2., 2., 4., 2.],\n",
      "        [2., 2., 2., 2., 4.],\n",
      "        [2., 2., 2., 2., 2.]])\n"
     ]
    }
   ],
   "source": [
    "input_tensor = t.eye(6, 5, requires_grad=True)\n",
    "output_tensor = (input_tensor + 1).pow(2).t()\n",
    "output_tensor.backward(t.ones_like(output_tensor), retain_graph=True)\n",
    "\n",
    "\n",
    "print(f\"First call\\n{input_tensor.grad}\")\n",
    "output_tensor.backward(t.ones_like(output_tensor), retain_graph=True)\n",
    "\n",
    "print(f\"\\nSecond call\\n{input_tensor.grad}\")\n",
    "input_tensor.grad.zero_()\n",
    "\n",
    "output_tensor.backward(t.ones_like(output_tensor), retain_graph=True)\n",
    "print(f\"\\nCall after zeroing gradients\\n{input_tensor.grad}\")\n"
   ]
  },
  {
   "cell_type": "markdown",
   "metadata": {},
   "source": [
    "#### c) Datasets and Dataloader \n",
    "Complete the tutorial at https://pytorch.org/tutorials/beginner/basics/data_tutorial.html . \n",
    "\n",
    "Add as many cells below as needed."
   ]
  },
  {
   "cell_type": "code",
   "execution_count": null,
   "metadata": {},
   "outputs": [],
   "source": [
    "# this tutorial 3 is based on loading data and manipulating it "
   ]
  },
  {
   "cell_type": "code",
   "execution_count": null,
   "metadata": {},
   "outputs": [],
   "source": []
  },
  {
   "cell_type": "code",
   "execution_count": null,
   "metadata": {},
   "outputs": [],
   "source": []
  },
  {
   "cell_type": "code",
   "execution_count": null,
   "metadata": {},
   "outputs": [],
   "source": []
  },
  {
   "cell_type": "code",
   "execution_count": null,
   "metadata": {},
   "outputs": [],
   "source": []
  },
  {
   "cell_type": "code",
   "execution_count": null,
   "metadata": {},
   "outputs": [],
   "source": []
  },
  {
   "cell_type": "code",
   "execution_count": null,
   "metadata": {},
   "outputs": [],
   "source": []
  },
  {
   "cell_type": "code",
   "execution_count": null,
   "metadata": {},
   "outputs": [],
   "source": []
  },
  {
   "cell_type": "code",
   "execution_count": null,
   "metadata": {},
   "outputs": [],
   "source": []
  },
  {
   "cell_type": "code",
   "execution_count": null,
   "metadata": {},
   "outputs": [],
   "source": []
  },
  {
   "cell_type": "code",
   "execution_count": null,
   "metadata": {},
   "outputs": [],
   "source": []
  },
  {
   "cell_type": "code",
   "execution_count": null,
   "metadata": {},
   "outputs": [],
   "source": [
    "\n",
    "\n",
    "\n"
   ]
  },
  {
   "cell_type": "markdown",
   "metadata": {},
   "source": [
    "#### d) Transforms\n",
    "Complete the tutorial at https://pytorch.org/tutorials/beginner/basics/transforms_tutorial.html . \n",
    "\n",
    "Add as many cells below as needed."
   ]
  },
  {
   "cell_type": "code",
   "execution_count": null,
   "metadata": {},
   "outputs": [],
   "source": []
  },
  {
   "cell_type": "markdown",
   "metadata": {},
   "source": [
    "#### e) Build model\n",
    "Complete the tutorial at https://pytorch.org/tutorials/beginner/basics/buildmodel_tutorial.html. \n",
    "\n",
    "Add as many cells below as needed."
   ]
  },
  {
   "cell_type": "code",
   "execution_count": null,
   "metadata": {},
   "outputs": [],
   "source": []
  },
  {
   "cell_type": "markdown",
   "metadata": {},
   "source": [
    "#### f) Optimization loop\n",
    "Complete the tutorial at https://pytorch.org/tutorials/beginner/basics/optimization_tutorial.html. \n",
    "\n",
    "Add as many cells below as needed."
   ]
  },
  {
   "cell_type": "code",
   "execution_count": null,
   "metadata": {},
   "outputs": [],
   "source": []
  },
  {
   "cell_type": "markdown",
   "metadata": {},
   "source": [
    "#### f) Save, load, and use model\n",
    "Complete the tutorial at https://pytorch.org/tutorials/beginner/basics/saveloadrun_tutorial.html. \n",
    "\n",
    "Add as many cells below as needed."
   ]
  },
  {
   "cell_type": "code",
   "execution_count": null,
   "metadata": {},
   "outputs": [],
   "source": []
  },
  {
   "cell_type": "markdown",
   "metadata": {},
   "source": [
    "### Exercise\n",
    "### Q2\n",
    "#### a) \n",
    "Create a pytorch class for a neural network with 3 inputs, one hidden layer with 5 neurons and ReLU activatioin function, one output layer with 2 outputs. Use $torch.nn.init$ to initialize the biases to zeros and initialize the weights from a random distribution with vairiance $0.1$ and mean $0.0$.\n",
    "\n",
    "\n"
   ]
  },
  {
   "cell_type": "code",
   "execution_count": 1,
   "metadata": {},
   "outputs": [],
   "source": [
    "# code\n",
    "\n"
   ]
  },
  {
   "cell_type": "markdown",
   "metadata": {},
   "source": [
    "#### b\n",
    "Instantiate the class to create a model. Access the weights and biases and print them.\n"
   ]
  },
  {
   "cell_type": "code",
   "execution_count": 2,
   "metadata": {},
   "outputs": [],
   "source": [
    "# code"
   ]
  },
  {
   "cell_type": "markdown",
   "metadata": {},
   "source": [
    "#### c\n",
    "\n",
    "Create a tensor X with 2 samples and 3 features randomly from a uniform distribution. Suppose the labels are 0 and 1, respectively for these two samples."
   ]
  },
  {
   "cell_type": "code",
   "execution_count": 3,
   "metadata": {},
   "outputs": [],
   "source": [
    "# code"
   ]
  },
  {
   "cell_type": "markdown",
   "metadata": {},
   "source": [
    "#### d\n",
    "Define crossentropy. "
   ]
  },
  {
   "cell_type": "code",
   "execution_count": 4,
   "metadata": {},
   "outputs": [],
   "source": [
    "# code"
   ]
  },
  {
   "cell_type": "markdown",
   "metadata": {},
   "source": [
    "#### e\n",
    "Define an optimizer with stochastic gradient descent. Set the learning rate to 0.1."
   ]
  },
  {
   "cell_type": "code",
   "execution_count": 5,
   "metadata": {},
   "outputs": [],
   "source": [
    "# code"
   ]
  },
  {
   "cell_type": "markdown",
   "metadata": {},
   "source": [
    "#### f\n",
    "Set the gradients of the model to zero. Do backpropagation and find the jacobians of loss with respect to weights and biases in the first and second layers."
   ]
  },
  {
   "cell_type": "code",
   "execution_count": 6,
   "metadata": {},
   "outputs": [],
   "source": [
    "# code"
   ]
  },
  {
   "cell_type": "markdown",
   "metadata": {},
   "source": [
    "#### g\n",
    "Update the parameters."
   ]
  },
  {
   "cell_type": "code",
   "execution_count": null,
   "metadata": {},
   "outputs": [],
   "source": [
    "# code"
   ]
  }
 ],
 "metadata": {
  "kernelspec": {
   "display_name": "Python 3 (ipykernel)",
   "language": "python",
   "name": "python3"
  },
  "language_info": {
   "codemirror_mode": {
    "name": "ipython",
    "version": 3
   },
   "file_extension": ".py",
   "mimetype": "text/x-python",
   "name": "python",
   "nbconvert_exporter": "python",
   "pygments_lexer": "ipython3",
   "version": "3.9.7"
  }
 },
 "nbformat": 4,
 "nbformat_minor": 4
}
