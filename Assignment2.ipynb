{
 "cells": [
  {
   "cell_type": "markdown",
   "metadata": {},
   "source": [
    "#### Instructions:  \n",
    "1. Libraries allowed: **Python basic libraries, numpy, and pytorch.**\n",
    "2. Show all outputs.\n",
    "3. Submit jupyter notebook and a pdf export of the notebook. \n",
    "4. For practice examples, change variable name, shape, mathematical operations, nummerical values, tensor sizes etc. Be creative!\n",
    "\n",
    "\n",
    "## Introduction\n",
    "In this assignment, you will learn the basics of pytorch through practicing examples in pytorch tutorials and get familarrity with  some of the pytorch functions and classes required for building NN models."
   ]
  },
  {
   "cell_type": "markdown",
   "metadata": {},
   "source": [
    "### Basics\n",
    "#### Q1 \n",
    "#### a) Tensors \n",
    "Complete the pytorch tutorial at https://pytorch.org/tutorials/beginner/basics/tensorqs_tutorial.html. For each of the concepts presetned in the tutorial, create your own example, which should be different from the tutorial as much as possible.  You must change the tensor,  variable name, numbers/numerical values, and mathematical operations (e.g, replace sum with multiplication), dimesnions. For exmaple, instead of 2-dimensional tensor in the first example, you should create 3 or 4 dimensional tensors with its elements randomly selected.\n",
    "\n",
    "Add as many cells below as needed."
   ]
  },
  {
   "cell_type": "code",
   "execution_count": 2,
   "metadata": {},
   "outputs": [],
   "source": [
    "import torch\n",
    "# create a 3D tensor with random elements\n",
    "data = [[[1, 2, 3],[4, 5, 6]],\n",
    "[[7, 8, 9],[10, 11, 12]],\n",
    "[[13, 14, 15],[16, 17, 18]]]\n",
    "x_data = torch.tensor(data)"
   ]
  },
  {
   "cell_type": "code",
   "execution_count": 3,
   "metadata": {},
   "outputs": [
    {
     "name": "stdout",
     "output_type": "stream",
     "text": [
      "Ones Tensor: \n",
      " tensor([[[1, 1, 1],\n",
      "         [1, 1, 1]],\n",
      "\n",
      "        [[1, 1, 1],\n",
      "         [1, 1, 1]],\n",
      "\n",
      "        [[1, 1, 1],\n",
      "         [1, 1, 1]]]) \n",
      "\n"
     ]
    }
   ],
   "source": [
    "# create a tensor with all ones with the same shape as x_data\n",
    "x_ones = torch.ones_like(x_data)\n",
    "print(f\"Ones Tensor: \\n {x_ones} \\n\")"
   ]
  },
  {
   "cell_type": "code",
   "execution_count": 4,
   "metadata": {},
   "outputs": [
    {
     "name": "stdout",
     "output_type": "stream",
     "text": [
      "Random Tensor: \n",
      " tensor([[[0.5997, 0.7895, 0.4562],\n",
      "         [0.9853, 0.7005, 0.9501]],\n",
      "\n",
      "        [[0.7160, 0.6089, 0.9914],\n",
      "         [0.4117, 0.0057, 0.6032]],\n",
      "\n",
      "        [[0.2571, 0.8459, 0.2079],\n",
      "         [0.3095, 0.6695, 0.1256]]]) \n",
      "\n"
     ]
    }
   ],
   "source": [
    "#Create a tensor with random elements with the same shape as x_data\n",
    "x_rand = torch.rand_like(x_data, dtype=torch.float)\n",
    "print(f\"Random Tensor: \\n {x_rand} \\n\")"
   ]
  },
  {
   "cell_type": "code",
   "execution_count": 5,
   "metadata": {},
   "outputs": [
    {
     "name": "stdout",
     "output_type": "stream",
     "text": [
      "Zeros Tensor: \n",
      " tensor([[[[0., 0.],\n",
      "          [0., 0.]],\n",
      "\n",
      "         [[0., 0.],\n",
      "          [0., 0.]],\n",
      "\n",
      "         [[0., 0.],\n",
      "          [0., 0.]]],\n",
      "\n",
      "\n",
      "        [[[0., 0.],\n",
      "          [0., 0.]],\n",
      "\n",
      "         [[0., 0.],\n",
      "          [0., 0.]],\n",
      "\n",
      "         [[0., 0.],\n",
      "          [0., 0.]]]])\n"
     ]
    }
   ],
   "source": [
    "# Create a 4D tensor with all zeros\n",
    "shape = (2, 3, 2, 2)\n",
    "zeros_tensor = torch.zeros(shape)\n",
    "print(f\"Zeros Tensor: \\n {zeros_tensor}\")\n"
   ]
  },
  {
   "cell_type": "code",
   "execution_count": 6,
   "metadata": {},
   "outputs": [
    {
     "name": "stdout",
     "output_type": "stream",
     "text": [
      "tensor([[[0.1177, 0.8063, 0.1279, 0.9512],\n",
      "         [0.4100, 0.1460, 0.9032, 0.9833],\n",
      "         [0.5340, 0.7847, 0.5825, 0.5940]],\n",
      "\n",
      "        [[0.0190, 0.2178, 0.9665, 0.1155],\n",
      "         [0.2723, 0.9841, 0.2613, 0.1089],\n",
      "         [0.1897, 0.6965, 0.3593, 0.1268]]])\n"
     ]
    }
   ],
   "source": [
    "# Create a tensor with random elements with the given shape\n",
    "rand_tensor = torch.rand((2, 3, 4))\n",
    "print(rand_tensor)"
   ]
  },
  {
   "cell_type": "code",
   "execution_count": 7,
   "metadata": {},
   "outputs": [
    {
     "name": "stdout",
     "output_type": "stream",
     "text": [
      "tensor([[[1., 1., 1., 1.],\n",
      "         [1., 1., 1., 1.],\n",
      "         [1., 1., 1., 1.]],\n",
      "\n",
      "        [[1., 1., 1., 1.],\n",
      "         [1., 1., 1., 1.],\n",
      "         [1., 1., 1., 1.]]])\n"
     ]
    }
   ],
   "source": [
    "#Create a tensor with all ones with the given shape\n",
    "ones_tensor = torch.ones((2, 3, 4))\n",
    "print(ones_tensor)"
   ]
  },
  {
   "cell_type": "code",
   "execution_count": 9,
   "metadata": {},
   "outputs": [
    {
     "name": "stdout",
     "output_type": "stream",
     "text": [
      "Added Tensor: \n",
      " tensor([[[1.1177, 1.8063, 1.1279, 1.9512],\n",
      "         [1.4100, 1.1460, 1.9032, 1.9833],\n",
      "         [1.5340, 1.7847, 1.5825, 1.5940]],\n",
      "\n",
      "        [[1.0190, 1.2178, 1.9665, 1.1155],\n",
      "         [1.2723, 1.9841, 1.2613, 1.1089],\n",
      "         [1.1897, 1.6965, 1.3593, 1.1268]]])\n"
     ]
    }
   ],
   "source": [
    "#Add the two tensors element-wise\n",
    "added_tensor = rand_tensor + ones_tensor\n",
    "print(f\"Added Tensor: \\n {added_tensor}\")\n"
   ]
  },
  {
   "cell_type": "code",
   "execution_count": 10,
   "metadata": {},
   "outputs": [
    {
     "name": "stdout",
     "output_type": "stream",
     "text": [
      "Multiplied Tensor: \n",
      " tensor([[[0.1177, 0.8063, 0.1279, 0.9512],\n",
      "         [0.4100, 0.1460, 0.9032, 0.9833],\n",
      "         [0.5340, 0.7847, 0.5825, 0.5940]],\n",
      "\n",
      "        [[0.0190, 0.2178, 0.9665, 0.1155],\n",
      "         [0.2723, 0.9841, 0.2613, 0.1089],\n",
      "         [0.1897, 0.6965, 0.3593, 0.1268]]])\n"
     ]
    }
   ],
   "source": [
    "#Multiply the two tensors element-wise\n",
    "multiplied_tensor = rand_tensor * ones_tensor\n",
    "print(f\"Multiplied Tensor: \\n {multiplied_tensor}\")"
   ]
  },
  {
   "cell_type": "code",
   "execution_count": 11,
   "metadata": {},
   "outputs": [
    {
     "name": "stdout",
     "output_type": "stream",
     "text": [
      "Mean of Multiplied Tensor: 0.46910563111305237\n"
     ]
    }
   ],
   "source": [
    "#Compute the mean of the multiplied tensor\n",
    "mean = multiplied_tensor.mean()\n",
    "print(f\"Mean of Multiplied Tensor: {mean}\")"
   ]
  },
  {
   "cell_type": "code",
   "execution_count": 12,
   "metadata": {},
   "outputs": [
    {
     "name": "stdout",
     "output_type": "stream",
     "text": [
      "Sum along the first dimension: \n",
      " tensor([[1.0618, 1.7369, 1.6137, 2.5285],\n",
      "        [0.4811, 1.8983, 1.5871, 0.3512]])\n"
     ]
    }
   ],
   "source": [
    "#Compute the sum of the multiplied tensor along the first dimension\n",
    "sum_along_dim1 = multiplied_tensor.sum(dim=1)\n",
    "print(f\"Sum along the first dimension: \\n {sum_along_dim1}\")"
   ]
  },
  {
   "cell_type": "code",
   "execution_count": 14,
   "metadata": {},
   "outputs": [
    {
     "name": "stdout",
     "output_type": "stream",
     "text": [
      "Product Tensor: \n",
      " tensor([[ 1.0490e-04, -1.1265e+00, -7.1441e-02, -1.9555e+00,  3.6324e-02],\n",
      "        [ 1.4590e+00,  2.0406e+00, -8.7784e-03,  2.5693e+00, -1.7473e-01],\n",
      "        [-4.9755e-01, -2.0409e+00,  7.5529e-01, -3.8621e+00, -1.1091e-01]])\n"
     ]
    }
   ],
   "source": [
    "#Compute the matrix multiplication between two tensors\n",
    "tensor1 = torch.randn(3, 4)\n",
    "tensor2 = torch.randn(4, 5)\n",
    "product_tensor = tensor1 @ tensor2\n",
    "print(f\"Product Tensor: \\n {product_tensor}\")"
   ]
  },
  {
   "cell_type": "code",
   "execution_count": 19,
   "metadata": {},
   "outputs": [
    {
     "name": "stdout",
     "output_type": "stream",
     "text": [
      "Product Tensor: \n",
      " tensor([[ 1.0490e-04, -1.1265e+00, -7.1441e-02, -1.9555e+00,  3.6324e-02],\n",
      "        [ 1.4590e+00,  2.0406e+00, -8.7784e-03,  2.5693e+00, -1.7473e-01],\n",
      "        [-4.9755e-01, -2.0409e+00,  7.5529e-01, -3.8621e+00, -1.1091e-01]])\n"
     ]
    }
   ],
   "source": [
    "#Compute the dot product between two tensors\n",
    "product_tensor = tensor1 @ tensor2\n",
    "print(f\"Product Tensor: \\n {product_tensor}\")\n"
   ]
  },
  {
   "cell_type": "code",
   "execution_count": null,
   "metadata": {},
   "outputs": [],
   "source": []
  },
  {
   "cell_type": "code",
   "execution_count": 22,
   "metadata": {},
   "outputs": [],
   "source": [
    "import torch\n",
    "\n",
    "# create a 3x3x3x3 tensor with random elements\n",
    "tensor1 = torch.rand(3, 3, 3, 3)\n",
    "\n",
    "# element-wise product using tensor.mul()\n",
    "z1 = tensor1.mul(tensor1)\n",
    "\n",
    "# element-wise product using torch.mul()\n",
    "z2 = torch.mul(tensor1, tensor1)\n",
    "\n",
    "# create a 3x3x3x3 tensor with random elements\n",
    "z3 = torch.rand_like(tensor1)\n",
    "\n",
    "# element-wise product using torch.mul() and output to z3\n",
    "torch.mul(tensor1, tensor1, out=z3)\n",
    "\n",
    "# compute the element-wise square root of z1\n",
    "z4 = torch.sqrt(z1)\n",
    "\n",
    "# compute the element-wise power of 3 for z2\n",
    "z5 = torch.pow(z2, 3)\n",
    "\n"
   ]
  },
  {
   "cell_type": "code",
   "execution_count": 23,
   "metadata": {},
   "outputs": [
    {
     "data": {
      "text/plain": [
       "tensor([[[[5.4378, 5.2899, 5.3430],\n",
       "          [5.4081, 5.4640, 5.2783],\n",
       "          [5.7193, 5.3239, 5.3723]],\n",
       "\n",
       "         [[5.5903, 5.2122, 5.8019],\n",
       "          [5.2346, 5.7640, 5.5927],\n",
       "          [5.2256, 5.2791, 5.2803]],\n",
       "\n",
       "         [[5.4287, 5.4690, 5.8147],\n",
       "          [5.5843, 5.8274, 5.2403],\n",
       "          [5.3743, 5.8171, 5.0110]]],\n",
       "\n",
       "\n",
       "        [[[5.2207, 5.7178, 5.1221],\n",
       "          [5.7569, 5.7423, 5.3963],\n",
       "          [5.9858, 5.0556, 5.3526]],\n",
       "\n",
       "         [[5.9046, 5.3615, 5.3391],\n",
       "          [5.5855, 5.7856, 5.4015],\n",
       "          [5.7710, 5.8275, 5.4688]],\n",
       "\n",
       "         [[5.6909, 5.4496, 5.8762],\n",
       "          [5.4129, 5.1584, 5.0500],\n",
       "          [5.4859, 5.3173, 5.3099]]],\n",
       "\n",
       "\n",
       "        [[[5.6783, 5.1087, 5.1088],\n",
       "          [5.2577, 5.7161, 5.6641],\n",
       "          [5.9160, 5.6178, 5.0914]],\n",
       "\n",
       "         [[5.3041, 5.3488, 5.1778],\n",
       "          [5.2199, 5.4690, 5.3737],\n",
       "          [5.0102, 5.1359, 5.7874]],\n",
       "\n",
       "         [[5.6017, 5.6009, 5.7265],\n",
       "          [5.8412, 5.0191, 5.5170],\n",
       "          [5.3706, 5.3349, 5.1821]]]])"
      ]
     },
     "execution_count": 23,
     "metadata": {},
     "output_type": "execute_result"
    }
   ],
   "source": [
    "\n",
    "# compute the maximum element value of tensor1\n",
    "max_val = tensor1.max()\n",
    "\n",
    "# compute the sum of all elements in tensor1\n",
    "agg = tensor1.sum()\n",
    "\n",
    "# convert tensor1 to a numpy array\n",
    "tensor1_np = tensor1.numpy()\n",
    "\n",
    "# add 5 to all elements of tensor1 using tensor.add_()\n",
    "tensor1.add_(5)\n"
   ]
  },
  {
   "cell_type": "code",
   "execution_count": 24,
   "metadata": {},
   "outputs": [
    {
     "data": {
      "text/plain": [
       "tensor([[3., 3., 3., 3.],\n",
       "        [3., 3., 3., 3.],\n",
       "        [3., 3., 3., 3.],\n",
       "        [3., 3., 3., 3.]])"
      ]
     },
     "execution_count": 24,
     "metadata": {},
     "output_type": "execute_result"
    }
   ],
   "source": [
    "\n",
    "# create a tensor of ones with shape (4, 4)\n",
    "t = torch.ones(4, 4)\n",
    "\n",
    "# convert t to a numpy array\n",
    "n = t.numpy()\n",
    "\n",
    "# add 2 to all elements of t using tensor.add_()\n",
    "t.add_(2)"
   ]
  },
  {
   "cell_type": "code",
   "execution_count": 25,
   "metadata": {},
   "outputs": [
    {
     "name": "stdout",
     "output_type": "stream",
     "text": [
      "tensor1:\n",
      "tensor([[[[5.4378, 5.2899, 5.3430],\n",
      "          [5.4081, 5.4640, 5.2783],\n",
      "          [5.7193, 5.3239, 5.3723]],\n",
      "\n",
      "         [[5.5903, 5.2122, 5.8019],\n",
      "          [5.2346, 5.7640, 5.5927],\n",
      "          [5.2256, 5.2791, 5.2803]],\n",
      "\n",
      "         [[5.4287, 5.4690, 5.8147],\n",
      "          [5.5843, 5.8274, 5.2403],\n",
      "          [5.3743, 5.8171, 5.0110]]],\n",
      "\n",
      "\n",
      "        [[[5.2207, 5.7178, 5.1221],\n",
      "          [5.7569, 5.7423, 5.3963],\n",
      "          [5.9858, 5.0556, 5.3526]],\n",
      "\n",
      "         [[5.9046, 5.3615, 5.3391],\n",
      "          [5.5855, 5.7856, 5.4015],\n",
      "          [5.7710, 5.8275, 5.4688]],\n",
      "\n",
      "         [[5.6909, 5.4496, 5.8762],\n",
      "          [5.4129, 5.1584, 5.0500],\n",
      "          [5.4859, 5.3173, 5.3099]]],\n",
      "\n",
      "\n",
      "        [[[5.6783, 5.1087, 5.1088],\n",
      "          [5.2577, 5.7161, 5.6641],\n",
      "          [5.9160, 5.6178, 5.0914]],\n",
      "\n",
      "         [[5.3041, 5.3488, 5.1778],\n",
      "          [5.2199, 5.4690, 5.3737],\n",
      "          [5.0102, 5.1359, 5.7874]],\n",
      "\n",
      "         [[5.6017, 5.6009, 5.7265],\n",
      "          [5.8412, 5.0191, 5.5170],\n",
      "          [5.3706, 5.3349, 5.1821]]]])\n",
      "\n",
      "z1:\n",
      "tensor([[[[1.9164e-01, 8.4040e-02, 1.1764e-01],\n",
      "          [1.6657e-01, 2.1527e-01, 7.7438e-02],\n",
      "          [5.1746e-01, 1.0491e-01, 1.3864e-01]],\n",
      "\n",
      "         [[3.4841e-01, 4.5028e-02, 6.4299e-01],\n",
      "          [5.5035e-02, 5.8376e-01, 3.5134e-01],\n",
      "          [5.0894e-02, 7.7902e-02, 7.8568e-02]],\n",
      "\n",
      "         [[1.8375e-01, 2.1999e-01, 6.6378e-01],\n",
      "          [3.4136e-01, 6.8460e-01, 5.7767e-02],\n",
      "          [1.4009e-01, 6.6763e-01, 1.2162e-04]]],\n",
      "\n",
      "\n",
      "        [[[4.8691e-02, 5.1524e-01, 1.4917e-02],\n",
      "          [5.7296e-01, 5.5099e-01, 1.5706e-01],\n",
      "          [9.7177e-01, 3.0920e-03, 1.2431e-01]],\n",
      "\n",
      "         [[8.1832e-01, 1.3066e-01, 1.1500e-01],\n",
      "          [3.4277e-01, 6.1714e-01, 1.6119e-01],\n",
      "          [5.9439e-01, 6.8474e-01, 2.1975e-01]],\n",
      "\n",
      "         [[4.7732e-01, 2.0218e-01, 7.6777e-01],\n",
      "          [1.7048e-01, 2.5078e-02, 2.5006e-03],\n",
      "          [2.3607e-01, 1.0067e-01, 9.6044e-02]]],\n",
      "\n",
      "\n",
      "        [[[4.6007e-01, 1.1814e-02, 1.1836e-02],\n",
      "          [6.6398e-02, 5.1283e-01, 4.4099e-01],\n",
      "          [8.3899e-01, 3.8163e-01, 8.3541e-03]],\n",
      "\n",
      "         [[9.2482e-02, 1.2167e-01, 3.1595e-02],\n",
      "          [4.8334e-02, 2.1995e-01, 1.3967e-01],\n",
      "          [1.0497e-04, 1.8458e-02, 6.1995e-01]],\n",
      "\n",
      "         [[3.6201e-01, 3.6105e-01, 5.2776e-01],\n",
      "          [7.0759e-01, 3.6613e-04, 2.6732e-01],\n",
      "          [1.3734e-01, 1.1216e-01, 3.3147e-02]]]])\n",
      "\n",
      "z2:\n",
      "tensor([[[[1.9164e-01, 8.4040e-02, 1.1764e-01],\n",
      "          [1.6657e-01, 2.1527e-01, 7.7438e-02],\n",
      "          [5.1746e-01, 1.0491e-01, 1.3864e-01]],\n",
      "\n",
      "         [[3.4841e-01, 4.5028e-02, 6.4299e-01],\n",
      "          [5.5035e-02, 5.8376e-01, 3.5134e-01],\n",
      "          [5.0894e-02, 7.7902e-02, 7.8568e-02]],\n",
      "\n",
      "         [[1.8375e-01, 2.1999e-01, 6.6378e-01],\n",
      "          [3.4136e-01, 6.8460e-01, 5.7767e-02],\n",
      "          [1.4009e-01, 6.6763e-01, 1.2162e-04]]],\n",
      "\n",
      "\n",
      "        [[[4.8691e-02, 5.1524e-01, 1.4917e-02],\n",
      "          [5.7296e-01, 5.5099e-01, 1.5706e-01],\n",
      "          [9.7177e-01, 3.0920e-03, 1.2431e-01]],\n",
      "\n",
      "         [[8.1832e-01, 1.3066e-01, 1.1500e-01],\n",
      "          [3.4277e-01, 6.1714e-01, 1.6119e-01],\n",
      "          [5.9439e-01, 6.8474e-01, 2.1975e-01]],\n",
      "\n",
      "         [[4.7732e-01, 2.0218e-01, 7.6777e-01],\n",
      "          [1.7048e-01, 2.5078e-02, 2.5006e-03],\n",
      "          [2.3607e-01, 1.0067e-01, 9.6044e-02]]],\n",
      "\n",
      "\n",
      "        [[[4.6007e-01, 1.1814e-02, 1.1836e-02],\n",
      "          [6.6398e-02, 5.1283e-01, 4.4099e-01],\n",
      "          [8.3899e-01, 3.8163e-01, 8.3541e-03]],\n",
      "\n",
      "         [[9.2482e-02, 1.2167e-01, 3.1595e-02],\n",
      "          [4.8334e-02, 2.1995e-01, 1.3967e-01],\n",
      "          [1.0497e-04, 1.8458e-02, 6.1995e-01]],\n",
      "\n",
      "         [[3.6201e-01, 3.6105e-01, 5.2776e-01],\n",
      "          [7.0759e-01, 3.6613e-04, 2.6732e-01],\n",
      "          [1.3734e-01, 1.1216e-01, 3.3147e-02]]]])\n",
      "\n",
      "z3:\n",
      "tensor([[[[1.9164e-01, 8.4040e-02, 1.1764e-01],\n",
      "          [1.6657e-01, 2.1527e-01, 7.7438e-02],\n",
      "          [5.1746e-01, 1.0491e-01, 1.3864e-01]],\n",
      "\n",
      "         [[3.4841e-01, 4.5028e-02, 6.4299e-01],\n",
      "          [5.5035e-02, 5.8376e-01, 3.5134e-01],\n",
      "          [5.0894e-02, 7.7902e-02, 7.8568e-02]],\n",
      "\n",
      "         [[1.8375e-01, 2.1999e-01, 6.6378e-01],\n",
      "          [3.4136e-01, 6.8460e-01, 5.7767e-02],\n",
      "          [1.4009e-01, 6.6763e-01, 1.2162e-04]]],\n",
      "\n",
      "\n",
      "        [[[4.8691e-02, 5.1524e-01, 1.4917e-02],\n",
      "          [5.7296e-01, 5.5099e-01, 1.5706e-01],\n",
      "          [9.7177e-01, 3.0920e-03, 1.2431e-01]],\n",
      "\n",
      "         [[8.1832e-01, 1.3066e-01, 1.1500e-01],\n",
      "          [3.4277e-01, 6.1714e-01, 1.6119e-01],\n",
      "          [5.9439e-01, 6.8474e-01, 2.1975e-01]],\n",
      "\n",
      "         [[4.7732e-01, 2.0218e-01, 7.6777e-01],\n",
      "          [1.7048e-01, 2.5078e-02, 2.5006e-03],\n",
      "          [2.3607e-01, 1.0067e-01, 9.6044e-02]]],\n",
      "\n",
      "\n",
      "        [[[4.6007e-01, 1.1814e-02, 1.1836e-02],\n",
      "          [6.6398e-02, 5.1283e-01, 4.4099e-01],\n",
      "          [8.3899e-01, 3.8163e-01, 8.3541e-03]],\n",
      "\n",
      "         [[9.2482e-02, 1.2167e-01, 3.1595e-02],\n",
      "          [4.8334e-02, 2.1995e-01, 1.3967e-01],\n",
      "          [1.0497e-04, 1.8458e-02, 6.1995e-01]],\n",
      "\n",
      "         [[3.6201e-01, 3.6105e-01, 5.2776e-01],\n",
      "          [7.0759e-01, 3.6613e-04, 2.6732e-01],\n",
      "          [1.3734e-01, 1.1216e-01, 3.3147e-02]]]])\n",
      "\n",
      "z4:\n",
      "tensor([[[[0.4378, 0.2899, 0.3430],\n",
      "          [0.4081, 0.4640, 0.2783],\n",
      "          [0.7193, 0.3239, 0.3723]],\n",
      "\n",
      "         [[0.5903, 0.2122, 0.8019],\n",
      "          [0.2346, 0.7640, 0.5927],\n",
      "          [0.2256, 0.2791, 0.2803]],\n",
      "\n",
      "         [[0.4287, 0.4690, 0.8147],\n",
      "          [0.5843, 0.8274, 0.2403],\n",
      "          [0.3743, 0.8171, 0.0110]]],\n",
      "\n",
      "\n",
      "        [[[0.2207, 0.7178, 0.1221],\n",
      "          [0.7569, 0.7423, 0.3963],\n",
      "          [0.9858, 0.0556, 0.3526]],\n",
      "\n",
      "         [[0.9046, 0.3615, 0.3391],\n",
      "          [0.5855, 0.7856, 0.4015],\n",
      "          [0.7710, 0.8275, 0.4688]],\n",
      "\n",
      "         [[0.6909, 0.4496, 0.8762],\n",
      "          [0.4129, 0.1584, 0.0500],\n",
      "          [0.4859, 0.3173, 0.3099]]],\n",
      "\n",
      "\n",
      "        [[[0.6783, 0.1087, 0.1088],\n",
      "          [0.2577, 0.7161, 0.6641],\n",
      "          [0.9160, 0.6178, 0.0914]],\n",
      "\n",
      "         [[0.3041, 0.3488, 0.1778],\n",
      "          [0.2198, 0.4690, 0.3737],\n",
      "          [0.0102, 0.1359, 0.7874]],\n",
      "\n",
      "         [[0.6017, 0.6009, 0.7265],\n",
      "          [0.8412, 0.0191, 0.5170],\n",
      "          [0.3706, 0.3349, 0.1821]]]])\n",
      "\n",
      "z5:\n",
      "tensor([[[[7.0377e-03, 5.9355e-04, 1.6280e-03],\n",
      "          [4.6216e-03, 9.9763e-03, 4.6436e-04],\n",
      "          [1.3856e-01, 1.1547e-03, 2.6646e-03]],\n",
      "\n",
      "         [[4.2294e-02, 9.1295e-05, 2.6583e-01],\n",
      "          [1.6669e-04, 1.9893e-01, 4.3369e-02],\n",
      "          [1.3183e-04, 4.7276e-04, 4.8500e-04]],\n",
      "\n",
      "         [[6.2044e-03, 1.0647e-02, 2.9246e-01],\n",
      "          [3.9776e-02, 3.2086e-01, 1.9277e-04],\n",
      "          [2.7496e-03, 2.9759e-01, 1.7990e-12]]],\n",
      "\n",
      "\n",
      "        [[[1.1544e-04, 1.3678e-01, 3.3191e-06],\n",
      "          [1.8809e-01, 1.6727e-01, 3.8744e-03],\n",
      "          [9.1767e-01, 2.9560e-08, 1.9211e-03]],\n",
      "\n",
      "         [[5.4798e-01, 2.2305e-03, 1.5207e-03],\n",
      "          [4.0271e-02, 2.3504e-01, 4.1884e-03],\n",
      "          [2.0999e-01, 3.2105e-01, 1.0612e-02]],\n",
      "\n",
      "         [[1.0875e-01, 8.2646e-03, 4.5258e-01],\n",
      "          [4.9551e-03, 1.5771e-05, 1.5636e-08],\n",
      "          [1.3156e-02, 1.0203e-03, 8.8595e-04]]],\n",
      "\n",
      "\n",
      "        [[[9.7382e-02, 1.6487e-06, 1.6582e-06],\n",
      "          [2.9273e-04, 1.3487e-01, 8.5759e-02],\n",
      "          [5.9056e-01, 5.5582e-02, 5.8303e-07]],\n",
      "\n",
      "         [[7.9099e-04, 1.8009e-03, 3.1541e-05],\n",
      "          [1.1292e-04, 1.0640e-02, 2.7248e-03],\n",
      "          [1.1566e-12, 6.2881e-06, 2.3827e-01]],\n",
      "\n",
      "         [[4.7441e-02, 4.7066e-02, 1.4699e-01],\n",
      "          [3.5427e-01, 4.9081e-11, 1.9103e-02],\n",
      "          [2.5903e-03, 1.4111e-03, 3.6418e-05]]]])\n",
      "\n",
      "max_val:\n",
      "0.985781729221344\n",
      "\n",
      "agg:\n",
      "36.90967559814453\n",
      "\n",
      "tensor1_np:\n",
      "[[[[5.4377627 5.2898965 5.3429856]\n",
      "   [5.4081306 5.463975  5.2782764]\n",
      "   [5.719349  5.3238997 5.372339 ]]\n",
      "\n",
      "  [[5.5902643 5.2121983 5.8018646]\n",
      "   [5.2345943 5.7640405 5.592738 ]\n",
      "   [5.225597  5.279109  5.2803006]]\n",
      "\n",
      "  [[5.4286633 5.469032  5.8147264]\n",
      "   [5.584256  5.827408  5.240348 ]\n",
      "   [5.3742924 5.8170877 5.0110283]]]\n",
      "\n",
      "\n",
      " [[[5.2206607 5.7178    5.122134 ]\n",
      "   [5.7569385 5.7422857 5.3963094]\n",
      "   [5.9857817 5.0556054 5.352581 ]]\n",
      "\n",
      "  [[5.904609  5.3614664 5.33911  ]\n",
      "   [5.5854616 5.7855816 5.40149  ]\n",
      "   [5.770964  5.8274894 5.468774 ]]\n",
      "\n",
      "  [[5.690883  5.449646  5.8762264]\n",
      "   [5.412898  5.158359  5.050006 ]\n",
      "   [5.4858704 5.3172865 5.3099093]]]\n",
      "\n",
      "\n",
      " [[[5.678286  5.10869   5.108794 ]\n",
      "   [5.2576785 5.716123  5.6640697]\n",
      "   [5.9159627 5.617763  5.0914006]]\n",
      "\n",
      "  [[5.3041086 5.3488054 5.177751 ]\n",
      "   [5.21985   5.4689846 5.3737273]\n",
      "   [5.0102453 5.1358585 5.787367 ]]\n",
      "\n",
      "  [[5.6016707 5.600875  5.726468 ]\n",
      "   [5.8411818 5.0191345 5.5170317]\n",
      "   [5.3705883 5.334907  5.182062 ]]]]\n",
      "\n",
      "t:\n",
      "tensor([[3., 3., 3., 3.],\n",
      "        [3., 3., 3., 3.],\n",
      "        [3., 3., 3., 3.],\n",
      "        [3., 3., 3., 3.]])\n",
      "\n",
      "n:\n",
      "[[3. 3. 3. 3.]\n",
      " [3. 3. 3. 3.]\n",
      " [3. 3. 3. 3.]\n",
      " [3. 3. 3. 3.]]\n",
      "\n"
     ]
    }
   ],
   "source": [
    "# print the tensors and values\n",
    "print(f\"tensor1:\\n{tensor1}\\n\")\n",
    "print(f\"z1:\\n{z1}\\n\")\n",
    "print(f\"z2:\\n{z2}\\n\")\n",
    "print(f\"z3:\\n{z3}\\n\")\n",
    "print(f\"z4:\\n{z4}\\n\")\n",
    "print(f\"z5:\\n{z5}\\n\")\n",
    "print(f\"max_val:\\n{max_val}\\n\")\n",
    "print(f\"agg:\\n{agg}\\n\")\n",
    "print(f\"tensor1_np:\\n{tensor1_np}\\n\")\n",
    "print(f\"t:\\n{t}\\n\")\n",
    "print(f\"n:\\n{n}\\n\")"
   ]
  },
  {
   "cell_type": "markdown",
   "metadata": {},
   "source": [
    "#### b) Autormatic differentiation\n",
    "Complete the tutorial at https://pytorch.org/tutorials/beginner/basics/autogradqs_tutorial.html . Again, make changes to the tensor, variable name etc. to make your example completely different from tutorial. Failing to do so will earn you zero credit.\n",
    "\n",
    "Add as many cells below as needed."
   ]
  },
  {
   "cell_type": "code",
   "execution_count": 28,
   "metadata": {},
   "outputs": [],
   "source": [
    "# this is a simplest one-layer neural network, with input x1, parameters we and bi, and some loss function\n",
    "# implemented in pytorch\n",
    "# all the variables names, tensors are changed\n",
    "\n",
    "import torch as t # replacing torch with easy letter\n",
    "\n",
    "x1 = t.ones(3)  # input tensor #x\n",
    "x0 = t.zeros(4)  # expected output #y\n",
    "\n",
    "we = t.randn(3, 4, requires_grad=True) #w\n",
    "bi = t.randn(4, requires_grad=True) #b\n",
    "\n",
    "fun = t.matmul(x1, we)+bi #z\n",
    "lossFunction = t.nn.functional.binary_cross_entropy_with_logits(fun, x0) # loss function\n"
   ]
  },
  {
   "cell_type": "code",
   "execution_count": 29,
   "metadata": {},
   "outputs": [
    {
     "name": "stdout",
     "output_type": "stream",
     "text": [
      "tensor([1., 1., 1.])\n"
     ]
    }
   ],
   "source": [
    "print(x1)"
   ]
  },
  {
   "cell_type": "code",
   "execution_count": 30,
   "metadata": {},
   "outputs": [
    {
     "name": "stdout",
     "output_type": "stream",
     "text": [
      "tensor([0., 0., 0., 0.])\n"
     ]
    }
   ],
   "source": [
    "print(x0)"
   ]
  },
  {
   "cell_type": "code",
   "execution_count": 31,
   "metadata": {},
   "outputs": [
    {
     "name": "stdout",
     "output_type": "stream",
     "text": [
      "tensor([[-0.1804, -1.9022, -0.6872,  1.0594],\n",
      "        [-0.7047, -2.0411, -1.4257,  0.9541],\n",
      "        [-1.3367,  0.2772, -0.4925,  0.1066]], requires_grad=True)\n"
     ]
    }
   ],
   "source": [
    "print(we)"
   ]
  },
  {
   "cell_type": "code",
   "execution_count": 32,
   "metadata": {},
   "outputs": [
    {
     "name": "stdout",
     "output_type": "stream",
     "text": [
      "tensor([ 0.6421, -1.2354,  1.1482, -0.3509], requires_grad=True)\n"
     ]
    }
   ],
   "source": [
    "print(bi)"
   ]
  },
  {
   "cell_type": "code",
   "execution_count": 33,
   "metadata": {},
   "outputs": [
    {
     "name": "stdout",
     "output_type": "stream",
     "text": [
      "tensor([-1.5798, -4.9015, -1.4572,  1.7692], grad_fn=<AddBackward0>)\n"
     ]
    }
   ],
   "source": [
    "print(fun)"
   ]
  },
  {
   "cell_type": "code",
   "execution_count": 34,
   "metadata": {},
   "outputs": [
    {
     "name": "stdout",
     "output_type": "stream",
     "text": [
      "tensor(0.5827, grad_fn=<BinaryCrossEntropyWithLogitsBackward0>)\n"
     ]
    }
   ],
   "source": [
    "print(lossFunction)"
   ]
  },
  {
   "cell_type": "code",
   "execution_count": 35,
   "metadata": {},
   "outputs": [
    {
     "name": "stdout",
     "output_type": "stream",
     "text": [
      "Gradient function for z = <AddBackward0 object at 0x7fc44aefd3a0>\n",
      "Gradient function for loss = <BinaryCrossEntropyWithLogitsBackward0 object at 0x7fc44aefd850>\n"
     ]
    }
   ],
   "source": [
    "print(f\"Gradient function for z = {fun.grad_fn}\")\n",
    "print(f\"Gradient function for loss = {lossFunction.grad_fn}\")"
   ]
  },
  {
   "cell_type": "code",
   "execution_count": 36,
   "metadata": {},
   "outputs": [],
   "source": [
    "# computing gradient"
   ]
  },
  {
   "cell_type": "code",
   "execution_count": 37,
   "metadata": {},
   "outputs": [
    {
     "name": "stdout",
     "output_type": "stream",
     "text": [
      "tensor([[0.0427, 0.0018, 0.0472, 0.2136],\n",
      "        [0.0427, 0.0018, 0.0472, 0.2136],\n",
      "        [0.0427, 0.0018, 0.0472, 0.2136]])\n",
      "tensor([0.0427, 0.0018, 0.0472, 0.2136])\n"
     ]
    }
   ],
   "source": [
    "lossFunction.backward(retain_graph=True)\n",
    "print(we.grad)\n",
    "print(bi.grad)\n"
   ]
  },
  {
   "cell_type": "code",
   "execution_count": 38,
   "metadata": {},
   "outputs": [
    {
     "name": "stdout",
     "output_type": "stream",
     "text": [
      "True\n",
      "False\n"
     ]
    }
   ],
   "source": [
    "# disabling gradient tracking\n",
    "fun = t.matmul(x1, we)+bi\n",
    "print(fun.requires_grad)\n",
    "\n",
    "with t.no_grad():\n",
    "    fun = t.matmul(x1, we)+bi\n",
    "print(fun.requires_grad)"
   ]
  },
  {
   "cell_type": "code",
   "execution_count": 39,
   "metadata": {},
   "outputs": [],
   "source": [
    "# Tensor Gradients and Jacobian Products"
   ]
  },
  {
   "cell_type": "code",
   "execution_count": 40,
   "metadata": {},
   "outputs": [
    {
     "name": "stdout",
     "output_type": "stream",
     "text": [
      "First call\n",
      "tensor([[4., 2., 2., 2., 2.],\n",
      "        [2., 4., 2., 2., 2.],\n",
      "        [2., 2., 4., 2., 2.],\n",
      "        [2., 2., 2., 4., 2.],\n",
      "        [2., 2., 2., 2., 4.],\n",
      "        [2., 2., 2., 2., 2.]])\n",
      "\n",
      "Second call\n",
      "tensor([[8., 4., 4., 4., 4.],\n",
      "        [4., 8., 4., 4., 4.],\n",
      "        [4., 4., 8., 4., 4.],\n",
      "        [4., 4., 4., 8., 4.],\n",
      "        [4., 4., 4., 4., 8.],\n",
      "        [4., 4., 4., 4., 4.]])\n",
      "\n",
      "Call after zeroing gradients\n",
      "tensor([[4., 2., 2., 2., 2.],\n",
      "        [2., 4., 2., 2., 2.],\n",
      "        [2., 2., 4., 2., 2.],\n",
      "        [2., 2., 2., 4., 2.],\n",
      "        [2., 2., 2., 2., 4.],\n",
      "        [2., 2., 2., 2., 2.]])\n"
     ]
    }
   ],
   "source": [
    "input_tensor = t.eye(6, 5, requires_grad=True)\n",
    "output_tensor = (input_tensor + 1).pow(2).t()\n",
    "output_tensor.backward(t.ones_like(output_tensor), retain_graph=True)\n",
    "\n",
    "\n",
    "print(f\"First call\\n{input_tensor.grad}\")\n",
    "output_tensor.backward(t.ones_like(output_tensor), retain_graph=True)\n",
    "\n",
    "print(f\"\\nSecond call\\n{input_tensor.grad}\")\n",
    "input_tensor.grad.zero_()\n",
    "\n",
    "output_tensor.backward(t.ones_like(output_tensor), retain_graph=True)\n",
    "print(f\"\\nCall after zeroing gradients\\n{input_tensor.grad}\")\n"
   ]
  },
  {
   "cell_type": "markdown",
   "metadata": {},
   "source": [
    "#### c) Datasets and Dataloader \n",
    "Complete the tutorial at https://pytorch.org/tutorials/beginner/basics/data_tutorial.html . \n",
    "\n",
    "Add as many cells below as needed."
   ]
  },
  {
   "cell_type": "code",
   "execution_count": null,
   "metadata": {},
   "outputs": [],
   "source": [
    "# this tutorial 3 is based on loading data and manipulating it"
   ]
  },
  {
   "cell_type": "code",
   "execution_count": 41,
   "metadata": {},
   "outputs": [
    {
     "name": "stdout",
     "output_type": "stream",
     "text": [
      "Downloading http://fashion-mnist.s3-website.eu-central-1.amazonaws.com/train-images-idx3-ubyte.gz\n",
      "Downloading http://fashion-mnist.s3-website.eu-central-1.amazonaws.com/train-images-idx3-ubyte.gz to data/FashionMNIST/raw/train-images-idx3-ubyte.gz\n"
     ]
    },
    {
     "name": "stderr",
     "output_type": "stream",
     "text": [
      "100%|█████████████████████████| 26421880/26421880 [00:01<00:00, 16593395.36it/s]\n"
     ]
    },
    {
     "name": "stdout",
     "output_type": "stream",
     "text": [
      "Extracting data/FashionMNIST/raw/train-images-idx3-ubyte.gz to data/FashionMNIST/raw\n",
      "\n",
      "Downloading http://fashion-mnist.s3-website.eu-central-1.amazonaws.com/train-labels-idx1-ubyte.gz\n",
      "Downloading http://fashion-mnist.s3-website.eu-central-1.amazonaws.com/train-labels-idx1-ubyte.gz to data/FashionMNIST/raw/train-labels-idx1-ubyte.gz\n"
     ]
    },
    {
     "name": "stderr",
     "output_type": "stream",
     "text": [
      "100%|█████████████████████████████████| 29515/29515 [00:00<00:00, 269606.95it/s]\n"
     ]
    },
    {
     "name": "stdout",
     "output_type": "stream",
     "text": [
      "Extracting data/FashionMNIST/raw/train-labels-idx1-ubyte.gz to data/FashionMNIST/raw\n",
      "\n",
      "Downloading http://fashion-mnist.s3-website.eu-central-1.amazonaws.com/t10k-images-idx3-ubyte.gz\n",
      "Downloading http://fashion-mnist.s3-website.eu-central-1.amazonaws.com/t10k-images-idx3-ubyte.gz to data/FashionMNIST/raw/t10k-images-idx3-ubyte.gz\n"
     ]
    },
    {
     "name": "stderr",
     "output_type": "stream",
     "text": [
      "100%|████████████████████████████| 4422102/4422102 [00:00<00:00, 4928159.31it/s]\n"
     ]
    },
    {
     "name": "stdout",
     "output_type": "stream",
     "text": [
      "Extracting data/FashionMNIST/raw/t10k-images-idx3-ubyte.gz to data/FashionMNIST/raw\n",
      "\n",
      "Downloading http://fashion-mnist.s3-website.eu-central-1.amazonaws.com/t10k-labels-idx1-ubyte.gz\n",
      "Downloading http://fashion-mnist.s3-website.eu-central-1.amazonaws.com/t10k-labels-idx1-ubyte.gz to data/FashionMNIST/raw/t10k-labels-idx1-ubyte.gz\n"
     ]
    },
    {
     "name": "stderr",
     "output_type": "stream",
     "text": [
      "100%|█████████████████████████████████| 5148/5148 [00:00<00:00, 10341128.83it/s]"
     ]
    },
    {
     "name": "stdout",
     "output_type": "stream",
     "text": [
      "Extracting data/FashionMNIST/raw/t10k-labels-idx1-ubyte.gz to data/FashionMNIST/raw\n",
      "\n"
     ]
    },
    {
     "name": "stderr",
     "output_type": "stream",
     "text": [
      "\n"
     ]
    }
   ],
   "source": [
    "import torch\n",
    "from torch.utils.data import Dataset\n",
    "from torchvision import datasets\n",
    "from torchvision.transforms import ToTensor\n",
    "import matplotlib.pyplot as plt\n",
    "\n",
    "#loading the fashionMNIST dataset\n",
    "# training data\n",
    "training_data = datasets.FashionMNIST(\n",
    "    root=\"data\",\n",
    "    train=True,\n",
    "    download=True,\n",
    "    transform=ToTensor()\n",
    ")\n",
    "\n",
    "#testing data\n",
    "test_data = datasets.FashionMNIST(\n",
    "    root=\"data\",\n",
    "    train=False,\n",
    "    download=True,\n",
    "    transform=ToTensor()\n",
    ")"
   ]
  },
  {
   "cell_type": "code",
   "execution_count": 55,
   "metadata": {},
   "outputs": [
    {
     "data": {
      "image/png": "[encoded data removed]",
      "text/plain": [
       "<Figure size 600x600 with 9 Axes>"
      ]
     },
     "metadata": {},
     "output_type": "display_data"
    }
   ],
   "source": [
    "# initializing labels for datasets\n",
    "# I am using same labels as the tutorial, however I have tweak the labels by small margin. \n",
    "# also I have reduced the figure size for my browser compatibility\n",
    "labels_map = {\n",
    "    0: \"T-Shirt\",\n",
    "    1: \"Trouser\",\n",
    "    2: \"Pullover\",\n",
    "    3: \"Dress\",\n",
    "    4: \"Coat\",\n",
    "    5: \"Sandal\",\n",
    "    6: \"Shirt\",\n",
    "    7: \"Sneaker\",\n",
    "    8: \"Bag\",\n",
    "    9: \"Ankle Boot\",\n",
    "}\n",
    "\n",
    "figure = plt.figure(figsize=(6, 6))\n",
    "cols, rows = 3, 3 # 3/3 matrix\n",
    "\n",
    "for i in range(1, cols * rows + 1):\n",
    "    sample_idx = torch.randint(len(training_data), size=(1,)).item()\n",
    "    img, label = training_data[sample_idx]\n",
    "    figure.add_subplot(rows, cols, i)\n",
    "    plt.title(labels_map[label])\n",
    "    plt.axis(\"off\")\n",
    "    plt.imshow(img.squeeze(), cmap=\"gray\")\n",
    "plt.show()"
   ]
  },
  {
   "cell_type": "code",
   "execution_count": 47,
   "metadata": {},
   "outputs": [],
   "source": [
    "import os\n",
    "import pandas as pd\n",
    "from torchvision.io import read_image\n",
    "\n",
    "class CustomImageDataset(Dataset):\n",
    "    def __init__(self, annotations_file, img_dir, transform=None, target_transform=None):\n",
    "        self.img_labels = pd.read_csv(annotations_file)\n",
    "        self.img_dir = img_dir\n",
    "        self.transform = transform\n",
    "        self.target_transform = target_transform\n",
    "\n",
    "    def __len__(self):\n",
    "        return len(self.img_labels)\n",
    "\n",
    "    def __getitem__(self, idx):\n",
    "        img_path = os.path.join(self.img_dir, self.img_labels.iloc[idx, 0])\n",
    "        image = read_image(img_path)\n",
    "        label = self.img_labels.iloc[idx, 1]\n",
    "        if self.transform:\n",
    "            image = self.transform(image)\n",
    "        if self.target_transform:\n",
    "            label = self.target_transform(label)\n",
    "        return image, label"
   ]
  },
  {
   "cell_type": "code",
   "execution_count": 48,
   "metadata": {},
   "outputs": [],
   "source": [
    "def __init__(self, annotations_file, img_dir, transform=None, target_transform=None):\n",
    "    self.img_labels = pd.read_csv(annotations_file)\n",
    "    self.img_dir = img_dir\n",
    "    self.transform = transform\n",
    "    self.target_transform = target_transform"
   ]
  },
  {
   "cell_type": "code",
   "execution_count": 49,
   "metadata": {},
   "outputs": [],
   "source": [
    "def __len__(self):\n",
    "    return len(self.img_labels)"
   ]
  },
  {
   "cell_type": "code",
   "execution_count": 50,
   "metadata": {},
   "outputs": [],
   "source": [
    "def __getitem__(self, idx):\n",
    "    img_path = os.path.join(self.img_dir, self.img_labels.iloc[idx, 0])\n",
    "    image = read_image(img_path)\n",
    "    label = self.img_labels.iloc[idx, 1]\n",
    "    if self.transform:\n",
    "        image = self.transform(image)\n",
    "    if self.target_transform:\n",
    "        label = self.target_transform(label)\n",
    "    return image, label"
   ]
  },
  {
   "cell_type": "code",
   "execution_count": 51,
   "metadata": {},
   "outputs": [],
   "source": [
    "from torch.utils.data import DataLoader\n",
    "\n",
    "train_dataloader = DataLoader(training_data, batch_size=64, shuffle=True)\n",
    "test_dataloader = DataLoader(test_data, batch_size=64, shuffle=True)"
   ]
  },
  {
   "cell_type": "code",
   "execution_count": 53,
   "metadata": {},
   "outputs": [
    {
     "name": "stdout",
     "output_type": "stream",
     "text": [
      "Feature batch shape: torch.Size([64, 1, 28, 28])\n",
      "Labels batch shape: torch.Size([64])\n"
     ]
    },
    {
     "data": {
      "image/png": "[encoded data removed]",
      "text/plain": [
       "<Figure size 640x480 with 1 Axes>"
      ]
     },
     "metadata": {},
     "output_type": "display_data"
    },
    {
     "name": "stdout",
     "output_type": "stream",
     "text": [
      "Label: 3\n"
     ]
    }
   ],
   "source": [
    "# Display image and label.\n",
    "train_features, train_labels = next(iter(train_dataloader))\n",
    "print(f\"Feature batch shape: {train_features.size()}\")\n",
    "print(f\"Labels batch shape: {train_labels.size()}\")\n",
    "img = train_features[12].squeeze()\n",
    "label = train_labels[12]\n",
    "plt.imshow(img, cmap=\"gray\")\n",
    "plt.show()\n",
    "print(f\"Label: {label}\")"
   ]
  },
  {
   "cell_type": "code",
   "execution_count": null,
   "metadata": {},
   "outputs": [],
   "source": [
    "# level 3 is Dress"
   ]
  },
  {
   "cell_type": "code",
   "execution_count": 54,
   "metadata": {},
   "outputs": [
    {
     "name": "stdout",
     "output_type": "stream",
     "text": [
      "Feature batch shape: torch.Size([64, 1, 28, 28])\n",
      "Labels batch shape: torch.Size([64])\n"
     ]
    },
    {
     "data": {
      "image/png": "[encoded data removed]",
      "text/plain": [
       "<Figure size 640x480 with 1 Axes>"
      ]
     },
     "metadata": {},
     "output_type": "display_data"
    },
    {
     "name": "stdout",
     "output_type": "stream",
     "text": [
      "Label: 2\n"
     ]
    }
   ],
   "source": [
    "# Display image and label.\n",
    "train_features, train_labels = next(iter(train_dataloader))\n",
    "print(f\"Feature batch shape: {train_features.size()}\")\n",
    "print(f\"Labels batch shape: {train_labels.size()}\")\n",
    "img = train_features[1].squeeze()\n",
    "label = train_labels[1]\n",
    "plt.imshow(img, cmap=\"gray\")\n",
    "plt.show()\n",
    "print(f\"Label: {label}\")"
   ]
  },
  {
   "cell_type": "code",
   "execution_count": null,
   "metadata": {},
   "outputs": [],
   "source": [
    "# Label 2 is Pullover"
   ]
  },
  {
   "cell_type": "code",
   "execution_count": 58,
   "metadata": {},
   "outputs": [
    {
     "name": "stdout",
     "output_type": "stream",
     "text": [
      "Files already downloaded and verified\n",
      "Files already downloaded and verified\n"
     ]
    },
    {
     "data": {
      "image/png": "[encoded data removed]",
      "text/plain": [
       "<Figure size 600x600 with 9 Axes>"
      ]
     },
     "metadata": {},
     "output_type": "display_data"
    }
   ],
   "source": [
    "import torch\n",
    "from torch.utils.data import Dataset\n",
    "from torchvision import datasets\n",
    "from torchvision.transforms import ToTensor\n",
    "import matplotlib.pyplot as plt\n",
    "\n",
    "#loading the CIFAR10 dataset\n",
    "# training data\n",
    "training_data = datasets.CIFAR10(\n",
    "    root=\"data\",\n",
    "    train=True,\n",
    "    download=True,\n",
    "    transform=ToTensor()\n",
    ")\n",
    "\n",
    "#testing data\n",
    "test_data = datasets.CIFAR10(\n",
    "    root=\"data\",\n",
    "    train=False,\n",
    "    download=True,\n",
    "    transform=ToTensor()\n",
    ")\n",
    "\n",
    "labels_map = {\n",
    "    0: \"airplane\",\n",
    "    1: \"automobile\",\n",
    "    2: \"bird\",\n",
    "    3: \"cat\",\n",
    "    4: \"deer\",\n",
    "    5: \"dog\",\n",
    "    6: \"frog\",\n",
    "    7: \"horse\",\n",
    "    8: \"ship\",\n",
    "    9: \"truck\",\n",
    "}\n",
    "\n",
    "figure = plt.figure(figsize=(6, 6))\n",
    "cols, rows = 3, 3 # 3/3 matrix\n",
    "\n",
    "for i in range(1, cols * rows + 1):\n",
    "    sample_idx = torch.randint(len(training_data), size=(1,)).item()\n",
    "    img, label = training_data[sample_idx]\n",
    "    figure.add_subplot(rows, cols, i)\n",
    "    plt.title(labels_map[label])\n",
    "    plt.axis(\"off\")\n",
    "    plt.imshow(img.permute(1, 2, 0))\n",
    "plt.show()\n"
   ]
  },
  {
   "cell_type": "code",
   "execution_count": 59,
   "metadata": {},
   "outputs": [],
   "source": [
    "import os\n",
    "import pandas as pd\n",
    "from torchvision.io import read_image\n",
    "\n",
    "class CustomImageDataset(Dataset):\n",
    "    def __init__(self, annotations_file, img_dir, transform=None, target_transform=None):\n",
    "        self.img_labels = pd.read_csv(annotations_file)\n",
    "        self.img_dir = img_dir\n",
    "        self.transform = transform\n",
    "        self.target_transform = target_transform\n",
    "\n",
    "    def __len__(self):\n",
    "        return len(self.img_labels)\n",
    "\n",
    "    def __getitem__(self, idx):\n",
    "        img_path = os.path.join(self.img_dir, self.img_labels.iloc[idx, 0])\n",
    "        image = read_image(img_path)\n",
    "        label = self.img_labels.iloc[idx, 1]\n",
    "        if self.transform:\n",
    "            image = self.transform(image)\n",
    "        if self.target_transform:\n",
    "            label = self.target_transform(label)\n",
    "        return image, label"
   ]
  },
  {
   "cell_type": "code",
   "execution_count": 60,
   "metadata": {},
   "outputs": [],
   "source": [
    "def __init__(self, annotations_file, img_dir, transform=None, target_transform=None):\n",
    "    self.img_labels = pd.read_csv(annotations_file)\n",
    "    self.img_dir = img_dir\n",
    "    self.transform = transform\n",
    "    self.target_transform = target_transform"
   ]
  },
  {
   "cell_type": "code",
   "execution_count": 61,
   "metadata": {},
   "outputs": [],
   "source": [
    "def __len__(self):\n",
    "    return len(self.img_labels)"
   ]
  },
  {
   "cell_type": "code",
   "execution_count": 62,
   "metadata": {},
   "outputs": [],
   "source": [
    "def __getitem__(self, idx):\n",
    "    img_path = os.path.join(self.img_dir, self.img_labels.iloc[idx, 0])\n",
    "    image = read_image(img_path)\n",
    "    label = self.img_labels.iloc[idx, 1]\n",
    "    if self.transform:\n",
    "        image = self.transform(image)\n",
    "    if self.target_transform:\n",
    "        label = self.target_transform(label)\n",
    "    return image, label"
   ]
  },
  {
   "cell_type": "code",
   "execution_count": 63,
   "metadata": {},
   "outputs": [],
   "source": [
    "from torch.utils.data import DataLoader\n",
    "\n",
    "train_dataloader = DataLoader(training_data, batch_size=64, shuffle=True)\n",
    "test_dataloader = DataLoader(test_data, batch_size=64, shuffle=True)"
   ]
  },
  {
   "cell_type": "code",
   "execution_count": 67,
   "metadata": {},
   "outputs": [
    {
     "name": "stdout",
     "output_type": "stream",
     "text": [
      "Feature batch shape: torch.Size([64, 3, 32, 32])\n",
      "Labels batch shape: torch.Size([64])\n"
     ]
    },
    {
     "data": {
      "image/png": "[encoded data removed]",
      "text/plain": [
       "<Figure size 640x480 with 1 Axes>"
      ]
     },
     "metadata": {},
     "output_type": "display_data"
    },
    {
     "name": "stdout",
     "output_type": "stream",
     "text": [
      "Label: 0\n"
     ]
    }
   ],
   "source": [
    "# Display image and label.\n",
    "train_features, train_labels = next(iter(train_dataloader))\n",
    "print(f\"Feature batch shape: {train_features.size()}\")\n",
    "print(f\"Labels batch shape: {train_labels.size()}\")\n",
    "#img = train_features[0].squeeze()  this line of code was not working becasue of incompatible image size \\\n",
    "#so had to tweak code part here\n",
    "\n",
    "\n",
    "img = train_features[0].permute(1, 2, 0)\n",
    "label = train_labels[0]\n",
    "plt.imshow(img, cmap=\"gray\")\n",
    "plt.show()\n",
    "print(f\"Label: {label}\")"
   ]
  },
  {
   "cell_type": "markdown",
   "metadata": {},
   "source": [
    "#### d) Transforms\n",
    "Complete the tutorial at https://pytorch.org/tutorials/beginner/basics/transforms_tutorial.html . \n",
    "\n",
    "Add as many cells below as needed."
   ]
  },
  {
   "cell_type": "code",
   "execution_count": 68,
   "metadata": {},
   "outputs": [],
   "source": [
    "import torch\n",
    "from torchvision import datasets\n",
    "from torchvision.transforms import ToTensor, Lambda\n",
    "\n",
    "# load the FashionMNIST dataset\n",
    "fashion_mnist = datasets.FashionMNIST(\n",
    "    root=\"data\",\n",
    "    train=True,\n",
    "    download=True,\n",
    "    transform=ToTensor(),\n",
    "    target_transform=Lambda(lambda y: torch.zeros(10, dtype=torch.float).scatter_(0, torch.tensor(y), value=1))\n",
    ")\n"
   ]
  },
  {
   "cell_type": "code",
   "execution_count": 69,
   "metadata": {},
   "outputs": [],
   "source": [
    "\n",
    "# define the target transform function separately\n",
    "def get_target(y):\n",
    "    return torch.zeros(10, dtype=torch.float).scatter_(0, torch.tensor(y), value=1)\n",
    "\n",
    "# create a new dataset with a custom target transform\n",
    "custom_fashion_mnist = datasets.FashionMNIST(\n",
    "    root=\"data\",\n",
    "    train=True,\n",
    "    download=True,\n",
    "    transform=ToTensor(),\n",
    "    target_transform=get_target\n",
    ")"
   ]
  },
  {
   "cell_type": "code",
   "execution_count": null,
   "metadata": {},
   "outputs": [],
   "source": []
  },
  {
   "cell_type": "markdown",
   "metadata": {},
   "source": [
    "#### e) Build model\n",
    "Complete the tutorial at https://pytorch.org/tutorials/beginner/basics/buildmodel_tutorial.html. \n",
    "\n",
    "Add as many cells below as needed."
   ]
  },
  {
   "cell_type": "code",
   "execution_count": 71,
   "metadata": {},
   "outputs": [
    {
     "name": "stdout",
     "output_type": "stream",
     "text": [
      "Using cpu device\n"
     ]
    }
   ],
   "source": []
  },
  {
   "cell_type": "code",
   "execution_count": 72,
   "metadata": {},
   "outputs": [
    {
     "name": "stdout",
     "output_type": "stream",
     "text": [
      "Using cpu device\n"
     ]
    }
   ],
   "source": [
    "    \n",
    "    \n",
    "import os\n",
    "import torch\n",
    "from torch import nn\n",
    "from torch.utils.data import DataLoader\n",
    "from torchvision import datasets, transforms\n",
    "\n",
    "# Set device to GPU if available, else to CPU\n",
    "device = \"cuda\" if torch.cuda.is_available() else \"cpu\"\n",
    "print(f\"Using {device} device\")"
   ]
  },
  {
   "cell_type": "code",
   "execution_count": 73,
   "metadata": {},
   "outputs": [],
   "source": [
    "\n",
    "# Define neural network architecture\n",
    "class MyNeuralNetwork(nn.Module):\n",
    "    def __init__(self):\n",
    "        super().__init__()\n",
    "        self.flatten = nn.Flatten()\n",
    "        self.linear_relu_stack = nn.Sequential(\n",
    "            nn.Linear(28*28, 256),\n",
    "            nn.ReLU(),\n",
    "            nn.Linear(256, 128),\n",
    "            nn.ReLU(),\n",
    "            nn.Linear(128, 10),\n",
    "        )\n",
    "\n",
    "    def forward(self, x):\n",
    "        x = self.flatten(x)\n",
    "        logits = self.linear_relu_stack(x)\n",
    "        return logits\n"
   ]
  },
  {
   "cell_type": "code",
   "execution_count": 74,
   "metadata": {},
   "outputs": [
    {
     "name": "stdout",
     "output_type": "stream",
     "text": [
      "MyNeuralNetwork(\n",
      "  (flatten): Flatten(start_dim=1, end_dim=-1)\n",
      "  (linear_relu_stack): Sequential(\n",
      "    (0): Linear(in_features=784, out_features=256, bias=True)\n",
      "    (1): ReLU()\n",
      "    (2): Linear(in_features=256, out_features=128, bias=True)\n",
      "    (3): ReLU()\n",
      "    (4): Linear(in_features=128, out_features=10, bias=True)\n",
      "  )\n",
      ")\n"
     ]
    }
   ],
   "source": [
    "\n",
    "# Initialize neural network model and print its architecture\n",
    "model = MyNeuralNetwork().to(device)\n",
    "print(model)\n"
   ]
  },
  {
   "cell_type": "code",
   "execution_count": 75,
   "metadata": {},
   "outputs": [
    {
     "name": "stdout",
     "output_type": "stream",
     "text": [
      "Predicted class: tensor([7])\n"
     ]
    }
   ],
   "source": [
    "# Generate a random input tensor and get the predicted output class\n",
    "X = torch.randn(1, 28, 28, device=device)\n",
    "logits = model(X)\n",
    "pred_probab = nn.Softmax(dim=1)(logits)\n",
    "y_pred = pred_probab.argmax(1)\n",
    "print(f\"Predicted class: {y_pred}\")\n"
   ]
  },
  {
   "cell_type": "code",
   "execution_count": 76,
   "metadata": {},
   "outputs": [
    {
     "name": "stdout",
     "output_type": "stream",
     "text": [
      "torch.Size([3, 28, 28])\n"
     ]
    }
   ],
   "source": [
    "# Create a random input image tensor and flatten it\n",
    "input_image = torch.randn(3, 28, 28)\n",
    "print(input_image.size())"
   ]
  },
  {
   "cell_type": "code",
   "execution_count": 77,
   "metadata": {},
   "outputs": [
    {
     "name": "stdout",
     "output_type": "stream",
     "text": [
      "torch.Size([3, 784])\n"
     ]
    }
   ],
   "source": [
    "flatten = nn.Flatten()\n",
    "flat_image = flatten(input_image)\n",
    "print(flat_image.size())"
   ]
  },
  {
   "cell_type": "code",
   "execution_count": 78,
   "metadata": {},
   "outputs": [
    {
     "name": "stdout",
     "output_type": "stream",
     "text": [
      "torch.Size([3, 20])\n",
      "Before ReLU: tensor([[-0.2782, -0.8104, -0.0474,  0.1367,  0.1678, -0.4092,  0.4148, -0.0465,\n",
      "         -1.0131,  0.8243,  0.3291,  0.5126,  0.4265,  0.7683,  0.5507,  0.5793,\n",
      "         -0.0615,  0.4773,  0.5438, -0.6399],\n",
      "        [-0.2341,  0.4215,  0.5699, -0.4999,  0.4944, -0.8792, -0.6487,  0.0895,\n",
      "          0.0235, -0.1700,  0.2754,  0.0148,  0.2137,  0.8958, -0.8931, -0.6483,\n",
      "         -1.2521, -0.0746, -0.9621, -0.6421],\n",
      "        [-0.4264,  0.5963, -0.0663, -0.2771, -0.6839,  0.8198, -0.2397,  0.9242,\n",
      "         -0.5680,  0.3516,  0.5101, -0.0018, -0.7816,  0.5368,  0.7150, -0.4518,\n",
      "         -0.4192, -0.4161, -0.5575,  0.1441]], grad_fn=<AddmmBackward0>)\n",
      "\n",
      "\n",
      "After ReLU: tensor([[0.0000, 0.0000, 0.0000, 0.1367, 0.1678, 0.0000, 0.4148, 0.0000, 0.0000,\n",
      "         0.8243, 0.3291, 0.5126, 0.4265, 0.7683, 0.5507, 0.5793, 0.0000, 0.4773,\n",
      "         0.5438, 0.0000],\n",
      "        [0.0000, 0.4215, 0.5699, 0.0000, 0.4944, 0.0000, 0.0000, 0.0895, 0.0235,\n",
      "         0.0000, 0.2754, 0.0148, 0.2137, 0.8958, 0.0000, 0.0000, 0.0000, 0.0000,\n",
      "         0.0000, 0.0000],\n",
      "        [0.0000, 0.5963, 0.0000, 0.0000, 0.0000, 0.8198, 0.0000, 0.9242, 0.0000,\n",
      "         0.3516, 0.5101, 0.0000, 0.0000, 0.5368, 0.7150, 0.0000, 0.0000, 0.0000,\n",
      "         0.0000, 0.1441]], grad_fn=<ReluBackward0>)\n"
     ]
    }
   ],
   "source": [
    "\n",
    "# Apply linear transformation to the flattened tensor and apply ReLU activation function\n",
    "linear_layer = nn.Linear(in_features=28*28, out_features=20)\n",
    "hidden_layer = linear_layer(flat_image)\n",
    "print(hidden_layer.size())\n",
    "\n",
    "print(f\"Before ReLU: {hidden_layer}\\n\\n\")\n",
    "hidden_layer = nn.ReLU()(hidden_layer)\n",
    "print(f\"After ReLU: {hidden_layer}\")"
   ]
  },
  {
   "cell_type": "code",
   "execution_count": 79,
   "metadata": {},
   "outputs": [],
   "source": [
    "# Define the neural network architecture as a sequential model and get predicted class probabilities\n",
    "seq_modules = nn.Sequential(\n",
    "    flatten,\n",
    "    linear_layer,\n",
    "    nn.ReLU(),\n",
    "    nn.Linear(20, 10)\n",
    ")\n",
    "input_image = torch.randn(3, 28, 28)\n",
    "logits = seq_modules(input_image)\n",
    "\n",
    "softmax = nn.Softmax(dim=1)\n",
    "pred_probab = softmax(logits)"
   ]
  },
  {
   "cell_type": "code",
   "execution_count": 80,
   "metadata": {},
   "outputs": [
    {
     "name": "stdout",
     "output_type": "stream",
     "text": [
      "Model structure: MyNeuralNetwork(\n",
      "  (flatten): Flatten(start_dim=1, end_dim=-1)\n",
      "  (linear_relu_stack): Sequential(\n",
      "    (0): Linear(in_features=784, out_features=256, bias=True)\n",
      "    (1): ReLU()\n",
      "    (2): Linear(in_features=256, out_features=128, bias=True)\n",
      "    (3): ReLU()\n",
      "    (4): Linear(in_features=128, out_features=10, bias=True)\n",
      "  )\n",
      ")\n",
      "\n",
      "\n",
      "Layer: linear_relu_stack.0.weight | Size: torch.Size([256, 784]) | Values : tensor([[ 0.0139,  0.0068,  0.0301,  ..., -0.0292, -0.0037,  0.0322],\n",
      "        [-0.0247, -0.0346, -0.0030,  ..., -0.0348, -0.0078, -0.0328]],\n",
      "       grad_fn=<SliceBackward0>) \n",
      "\n",
      "Layer: linear_relu_stack.0.bias | Size: torch.Size([256]) | Values : tensor([-0.0203, -0.0005], grad_fn=<SliceBackward0>) \n",
      "\n",
      "Layer: linear_relu_stack.2.weight | Size: torch.Size([128, 256]) | Values : tensor([[-0.0104, -0.0261, -0.0585,  0.0333, -0.0279, -0.0200, -0.0205,  0.0482,\n",
      "          0.0512, -0.0034, -0.0206,  0.0166,  0.0246,  0.0465,  0.0302, -0.0161,\n",
      "         -0.0402, -0.0469, -0.0495, -0.0360,  0.0445, -0.0195, -0.0067, -0.0217,\n",
      "         -0.0016,  0.0531, -0.0219,  0.0267,  0.0444,  0.0367,  0.0477, -0.0622,\n",
      "          0.0105,  0.0613, -0.0360, -0.0334,  0.0504,  0.0497,  0.0355,  0.0602,\n",
      "          0.0625,  0.0180,  0.0073, -0.0604,  0.0058,  0.0234, -0.0276,  0.0199,\n",
      "          0.0619, -0.0596, -0.0279, -0.0529,  0.0579, -0.0550,  0.0104, -0.0575,\n",
      "          0.0610, -0.0433, -0.0472,  0.0441,  0.0141,  0.0574,  0.0258, -0.0496,\n",
      "         -0.0363,  0.0562, -0.0257,  0.0565, -0.0247,  0.0092, -0.0409, -0.0094,\n",
      "         -0.0081,  0.0233, -0.0163,  0.0116, -0.0465,  0.0505, -0.0343, -0.0179,\n",
      "         -0.0556,  0.0440, -0.0501,  0.0565, -0.0108,  0.0291,  0.0020, -0.0316,\n",
      "          0.0261,  0.0451,  0.0015,  0.0165, -0.0191,  0.0039,  0.0125,  0.0612,\n",
      "         -0.0532, -0.0601,  0.0049,  0.0390, -0.0213, -0.0314,  0.0134,  0.0094,\n",
      "         -0.0422, -0.0291,  0.0062,  0.0374, -0.0500,  0.0526, -0.0279, -0.0111,\n",
      "          0.0002, -0.0282,  0.0067, -0.0605,  0.0512, -0.0112,  0.0198,  0.0206,\n",
      "          0.0414, -0.0321, -0.0437, -0.0528,  0.0354, -0.0118, -0.0131, -0.0141,\n",
      "         -0.0431, -0.0424, -0.0440,  0.0136,  0.0617,  0.0610,  0.0448,  0.0401,\n",
      "          0.0563,  0.0211, -0.0234,  0.0417,  0.0594, -0.0138,  0.0414, -0.0097,\n",
      "          0.0182, -0.0395,  0.0371, -0.0258,  0.0232, -0.0245, -0.0061, -0.0369,\n",
      "         -0.0539, -0.0216, -0.0150,  0.0141,  0.0007,  0.0367, -0.0507, -0.0122,\n",
      "         -0.0019,  0.0425,  0.0401, -0.0101, -0.0265, -0.0068, -0.0080,  0.0145,\n",
      "         -0.0339,  0.0056, -0.0242,  0.0542,  0.0163,  0.0145,  0.0084,  0.0092,\n",
      "         -0.0217, -0.0055,  0.0055, -0.0394, -0.0054,  0.0308, -0.0343, -0.0517,\n",
      "         -0.0581,  0.0056, -0.0388, -0.0196,  0.0308, -0.0381, -0.0153, -0.0356,\n",
      "          0.0477, -0.0349, -0.0139, -0.0225, -0.0538,  0.0328,  0.0353,  0.0040,\n",
      "         -0.0401, -0.0312,  0.0605,  0.0029, -0.0073,  0.0615, -0.0296,  0.0372,\n",
      "          0.0351,  0.0325,  0.0499,  0.0392,  0.0491, -0.0608, -0.0403,  0.0424,\n",
      "         -0.0361, -0.0412, -0.0441, -0.0187,  0.0533, -0.0615,  0.0077,  0.0554,\n",
      "          0.0016,  0.0412,  0.0393, -0.0377, -0.0061,  0.0597,  0.0415, -0.0026,\n",
      "          0.0071,  0.0262, -0.0040,  0.0194, -0.0134, -0.0466,  0.0319,  0.0316,\n",
      "         -0.0143,  0.0424, -0.0553,  0.0336, -0.0249, -0.0545, -0.0263, -0.0486,\n",
      "         -0.0294, -0.0573, -0.0594,  0.0529,  0.0052, -0.0160,  0.0002,  0.0545],\n",
      "        [ 0.0374,  0.0329, -0.0468,  0.0157,  0.0167, -0.0221,  0.0120, -0.0236,\n",
      "         -0.0413,  0.0529, -0.0306, -0.0427, -0.0037,  0.0430, -0.0088,  0.0095,\n",
      "         -0.0015,  0.0458,  0.0127, -0.0026,  0.0524, -0.0532, -0.0189,  0.0115,\n",
      "          0.0052, -0.0552,  0.0088, -0.0459, -0.0136,  0.0611, -0.0148, -0.0014,\n",
      "         -0.0536,  0.0513, -0.0526,  0.0562,  0.0482, -0.0447,  0.0490,  0.0003,\n",
      "         -0.0032,  0.0055,  0.0015, -0.0307,  0.0287, -0.0435, -0.0265,  0.0591,\n",
      "          0.0198,  0.0090, -0.0527, -0.0591, -0.0624,  0.0069, -0.0136, -0.0107,\n",
      "          0.0299,  0.0004, -0.0334, -0.0517,  0.0071,  0.0484, -0.0253,  0.0139,\n",
      "         -0.0473, -0.0006,  0.0368,  0.0308,  0.0513,  0.0486,  0.0265, -0.0570,\n",
      "          0.0530,  0.0268,  0.0433,  0.0289,  0.0295,  0.0030,  0.0097, -0.0235,\n",
      "          0.0214,  0.0259, -0.0185, -0.0082, -0.0615, -0.0505,  0.0087,  0.0111,\n",
      "          0.0242, -0.0550,  0.0592, -0.0306, -0.0148, -0.0454, -0.0571, -0.0266,\n",
      "         -0.0553,  0.0239,  0.0568, -0.0555,  0.0555,  0.0180, -0.0293, -0.0116,\n",
      "          0.0060,  0.0004, -0.0622, -0.0405,  0.0023, -0.0423, -0.0319, -0.0041,\n",
      "          0.0049,  0.0244, -0.0496, -0.0004, -0.0002,  0.0274, -0.0410, -0.0043,\n",
      "         -0.0441,  0.0196, -0.0355,  0.0312,  0.0273, -0.0540,  0.0192,  0.0070,\n",
      "         -0.0412,  0.0211, -0.0512, -0.0324, -0.0123,  0.0192, -0.0469,  0.0193,\n",
      "          0.0518, -0.0172,  0.0151,  0.0109, -0.0229, -0.0349,  0.0597, -0.0009,\n",
      "         -0.0461,  0.0309,  0.0438,  0.0425, -0.0070, -0.0259,  0.0512, -0.0106,\n",
      "          0.0530,  0.0024,  0.0066, -0.0143,  0.0223, -0.0185,  0.0306, -0.0160,\n",
      "          0.0262, -0.0190,  0.0042,  0.0349, -0.0299, -0.0258,  0.0450, -0.0471,\n",
      "          0.0019,  0.0247, -0.0188,  0.0015,  0.0570, -0.0621,  0.0153,  0.0405,\n",
      "          0.0555,  0.0151,  0.0579, -0.0053,  0.0553,  0.0499,  0.0445,  0.0135,\n",
      "         -0.0457,  0.0226, -0.0362,  0.0359, -0.0376, -0.0581, -0.0254, -0.0352,\n",
      "         -0.0309,  0.0406,  0.0177, -0.0398, -0.0414,  0.0007, -0.0440,  0.0571,\n",
      "          0.0349,  0.0527,  0.0030, -0.0268,  0.0067, -0.0101, -0.0375,  0.0278,\n",
      "         -0.0488, -0.0226,  0.0227,  0.0009, -0.0206,  0.0303, -0.0138, -0.0077,\n",
      "         -0.0206, -0.0258, -0.0277, -0.0427, -0.0194,  0.0325,  0.0263,  0.0301,\n",
      "          0.0609,  0.0501, -0.0378, -0.0209,  0.0235, -0.0294,  0.0073,  0.0097,\n",
      "         -0.0033,  0.0095,  0.0293, -0.0475,  0.0006,  0.0001, -0.0118,  0.0224,\n",
      "         -0.0227, -0.0059, -0.0516,  0.0070,  0.0123, -0.0205,  0.0576, -0.0246,\n",
      "          0.0123, -0.0086,  0.0278, -0.0201, -0.0262, -0.0032,  0.0188,  0.0307]],\n",
      "       grad_fn=<SliceBackward0>) \n",
      "\n",
      "Layer: linear_relu_stack.2.bias | Size: torch.Size([128]) | Values : tensor([-0.0406, -0.0443], grad_fn=<SliceBackward0>) \n",
      "\n",
      "Layer: linear_relu_stack.4.weight | Size: torch.Size([10, 128]) | Values : tensor([[-0.0230,  0.0219, -0.0688, -0.0366,  0.0040,  0.0734, -0.0126,  0.0692,\n",
      "         -0.0486, -0.0646,  0.0695, -0.0592,  0.0737,  0.0142, -0.0292,  0.0065,\n",
      "         -0.0450,  0.0834,  0.0245,  0.0617, -0.0869,  0.0304, -0.0292,  0.0431,\n",
      "         -0.0095, -0.0125, -0.0662,  0.0318,  0.0878,  0.0383, -0.0598, -0.0212,\n",
      "         -0.0273,  0.0592,  0.0215,  0.0381,  0.0029,  0.0544,  0.0668, -0.0778,\n",
      "         -0.0682,  0.0436,  0.0380,  0.0645, -0.0176, -0.0723, -0.0856,  0.0254,\n",
      "          0.0548, -0.0604, -0.0359, -0.0211,  0.0383,  0.0041,  0.0281,  0.0363,\n",
      "         -0.0214, -0.0783,  0.0573, -0.0248, -0.0838,  0.0776,  0.0545, -0.0277,\n",
      "         -0.0038,  0.0494,  0.0245, -0.0641,  0.0835,  0.0142,  0.0552,  0.0299,\n",
      "          0.0656,  0.0762, -0.0568, -0.0866,  0.0407,  0.0106,  0.0361,  0.0304,\n",
      "         -0.0645,  0.0495,  0.0728, -0.0752, -0.0575,  0.0125,  0.0782, -0.0095,\n",
      "         -0.0414,  0.0543, -0.0433,  0.0843, -0.0506, -0.0615, -0.0448, -0.0672,\n",
      "          0.0592, -0.0294, -0.0249,  0.0783,  0.0699,  0.0867, -0.0630,  0.0087,\n",
      "          0.0746,  0.0506, -0.0423, -0.0394,  0.0756, -0.0253,  0.0313, -0.0373,\n",
      "         -0.0412, -0.0852, -0.0774,  0.0233,  0.0076,  0.0683, -0.0882,  0.0747,\n",
      "         -0.0147, -0.0241,  0.0840,  0.0179, -0.0235,  0.0281, -0.0438, -0.0070],\n",
      "        [-0.0744,  0.0787, -0.0426,  0.0879,  0.0066,  0.0483,  0.0096,  0.0757,\n",
      "         -0.0479,  0.0672,  0.0826,  0.0203,  0.0556, -0.0564,  0.0592, -0.0328,\n",
      "          0.0105, -0.0108,  0.0289,  0.0656,  0.0134,  0.0859,  0.0168,  0.0023,\n",
      "          0.0273,  0.0798,  0.0542, -0.0240, -0.0115, -0.0175, -0.0663, -0.0354,\n",
      "         -0.0071, -0.0318, -0.0382,  0.0607, -0.0364, -0.0448,  0.0102, -0.0499,\n",
      "         -0.0517,  0.0232, -0.0558,  0.0179,  0.0576,  0.0644, -0.0770, -0.0764,\n",
      "         -0.0615, -0.0190, -0.0778, -0.0020,  0.0414, -0.0242,  0.0257,  0.0195,\n",
      "         -0.0669,  0.0649, -0.0366,  0.0751,  0.0213,  0.0037, -0.0288,  0.0163,\n",
      "          0.0663,  0.0058,  0.0382, -0.0698,  0.0118,  0.0567,  0.0412, -0.0838,\n",
      "          0.0481,  0.0355, -0.0697,  0.0867,  0.0862,  0.0111, -0.0409,  0.0289,\n",
      "         -0.0782,  0.0800, -0.0468,  0.0866,  0.0590,  0.0464,  0.0142,  0.0427,\n",
      "          0.0538, -0.0768, -0.0374,  0.0646, -0.0269,  0.0672,  0.0418, -0.0229,\n",
      "          0.0517, -0.0334,  0.0380,  0.0205, -0.0122,  0.0046,  0.0505, -0.0586,\n",
      "         -0.0721, -0.0436,  0.0404, -0.0803, -0.0403, -0.0745, -0.0265,  0.0585,\n",
      "         -0.0028, -0.0266,  0.0598,  0.0514, -0.0554, -0.0087, -0.0428, -0.0085,\n",
      "          0.0819,  0.0570,  0.0624,  0.0247,  0.0200, -0.0855,  0.0614,  0.0332]],\n",
      "       grad_fn=<SliceBackward0>) \n",
      "\n",
      "Layer: linear_relu_stack.4.bias | Size: torch.Size([10]) | Values : tensor([ 0.0648, -0.0820], grad_fn=<SliceBackward0>) \n",
      "\n"
     ]
    }
   ],
   "source": [
    "print(f\"Model structure: {model}\\n\\n\")\n",
    "\n",
    "# Print the sizes and values of the neural network's parameters\n",
    "for name, param in model.named_parameters():\n",
    "    print(f\"Layer: {name} | Size: {param.size()} | Values : {param[:2]} \\n\")"
   ]
  },
  {
   "cell_type": "code",
   "execution_count": null,
   "metadata": {},
   "outputs": [],
   "source": []
  },
  {
   "cell_type": "markdown",
   "metadata": {},
   "source": [
    "#### f) Optimization loop\n",
    "Complete the tutorial at https://pytorch.org/tutorials/beginner/basics/optimization_tutorial.html. \n",
    "\n",
    "Add as many cells below as needed."
   ]
  },
  {
   "cell_type": "code",
   "execution_count": 87,
   "metadata": {},
   "outputs": [],
   "source": [
    "import torch\n",
    "from torch import nn\n",
    "from torch.utils.data import DataLoader\n",
    "from torchvision import datasets\n",
    "from torchvision.transforms import ToTensor\n",
    "\n",
    "training_data = datasets.FashionMNIST(\n",
    "    root=\"data\",\n",
    "    train=True,\n",
    "    download=True,\n",
    "    transform=ToTensor()\n",
    ")\n",
    "\n",
    "test_data = datasets.FashionMNIST(\n",
    "    root=\"data\",\n",
    "    train=False,\n",
    "    download=True,\n",
    "    transform=ToTensor()\n",
    ")"
   ]
  },
  {
   "cell_type": "code",
   "execution_count": 94,
   "metadata": {},
   "outputs": [],
   "source": [
    "train_dataloader = DataLoader(training_data, batch_size=64)\n",
    "test_dataloader = DataLoader(test_data, batch_size=64)\n",
    "\n",
    "class NeuralNetwork(nn.Module):\n",
    "    def __init__(self):\n",
    "        super(NeuralNetwork, self).__init__()\n",
    "        self.flatten = nn.Flatten()\n",
    "        self.linear_relu_stack = nn.Sequential(\n",
    "            nn.Linear(28*28, 256),\n",
    "            nn.ReLU(),\n",
    "            nn.Linear(256, 256),\n",
    "            nn.ReLU(),\n",
    "            nn.Linear(256, 10),\n",
    "        )\n",
    "\n",
    "    def forward(self, x):\n",
    "        x = self.flatten(x)\n",
    "        logits = self.linear_relu_stack(x)\n",
    "        return logits\n",
    "\n",
    "model = NeuralNetwork()\n"
   ]
  },
  {
   "cell_type": "code",
   "execution_count": 95,
   "metadata": {},
   "outputs": [],
   "source": [
    "\n",
    "learning_rate = 0.03\n",
    "batch_size = 54\n",
    "epochs = 8\n"
   ]
  },
  {
   "cell_type": "code",
   "execution_count": 96,
   "metadata": {},
   "outputs": [],
   "source": [
    "\n",
    "# Initialize the loss function\n",
    "loss_fn = nn.CrossEntropyLoss()\n",
    "\n",
    "\n",
    "optimizer = torch.optim.SGD(model.parameters(), lr=learning_rate)\n"
   ]
  },
  {
   "cell_type": "code",
   "execution_count": 97,
   "metadata": {},
   "outputs": [],
   "source": [
    "\n",
    "def train_loop(dataloader, model, loss_fn, optimizer):\n",
    "    size = len(dataloader.dataset)\n",
    "    for batch, (X, y) in enumerate(dataloader):\n",
    "        # Compute prediction and loss\n",
    "        pred = model(X)\n",
    "        loss = loss_fn(pred, y)\n",
    "\n",
    "        # Backpropagation\n",
    "        optimizer.zero_grad()\n",
    "        loss.backward()\n",
    "        optimizer.step()\n",
    "\n",
    "        if batch % 100 == 0:\n",
    "            loss, current = loss.item(), (batch + 1) * len(X)\n",
    "            print(f\"loss: {loss:>7f}  [{current:>5d}/{size:>5d}]\")\n",
    "\n",
    "\n",
    "def test_loop(dataloader, model, loss_fn):\n",
    "    size = len(dataloader.dataset)\n",
    "    num_batches = len(dataloader)\n",
    "    test_loss, correct = 0, 0\n",
    "\n",
    "    with torch.no_grad():\n",
    "        for X, y in dataloader:\n",
    "            pred = model(X)\n",
    "            test_loss += loss_fn(pred, y).item()\n",
    "            correct += (pred.argmax(1) == y).type(torch.float).sum().item()\n",
    "\n",
    "    test_loss /= num_batches\n",
    "    correct /= size\n",
    "    print(f\"Test Error: \\n Accuracy: {(100*correct):>0.1f}%, Avg loss: {test_loss:>8f} \\n\")\n",
    "    "
   ]
  },
  {
   "cell_type": "code",
   "execution_count": 98,
   "metadata": {},
   "outputs": [],
   "source": [
    "\n",
    "loss_fn = nn.CrossEntropyLoss()\n",
    "optimizer = torch.optim.SGD(model.parameters(), lr=learning_rate)\n"
   ]
  },
  {
   "cell_type": "code",
   "execution_count": 99,
   "metadata": {},
   "outputs": [
    {
     "name": "stdout",
     "output_type": "stream",
     "text": [
      "Epoch 1\n",
      "+++++++++++++++++\n",
      "loss: 2.297503  [   64/60000]\n",
      "loss: 1.599600  [ 6464/60000]\n",
      "loss: 0.919777  [12864/60000]\n",
      "loss: 0.887553  [19264/60000]\n",
      "loss: 0.743619  [25664/60000]\n",
      "loss: 0.665995  [32064/60000]\n",
      "loss: 0.730016  [38464/60000]\n",
      "loss: 0.676727  [44864/60000]\n",
      "loss: 0.692557  [51264/60000]\n",
      "loss: 0.599752  [57664/60000]\n",
      "Test Error: \n",
      " Accuracy: 77.2%, Avg loss: 0.642582 \n",
      "\n",
      "Epoch 2\n",
      "+++++++++++++++++\n",
      "loss: 0.544331  [   64/60000]\n",
      "loss: 0.593742  [ 6464/60000]\n",
      "loss: 0.422275  [12864/60000]\n",
      "loss: 0.593526  [19264/60000]\n",
      "loss: 0.577409  [25664/60000]\n",
      "loss: 0.502632  [32064/60000]\n",
      "loss: 0.539740  [38464/60000]\n",
      "loss: 0.638622  [44864/60000]\n",
      "loss: 0.622591  [51264/60000]\n",
      "loss: 0.465965  [57664/60000]\n",
      "Test Error: \n",
      " Accuracy: 79.5%, Avg loss: 0.564314 \n",
      "\n",
      "Epoch 3\n",
      "+++++++++++++++++\n",
      "loss: 0.423710  [   64/60000]\n",
      "loss: 0.502077  [ 6464/60000]\n",
      "loss: 0.352441  [12864/60000]\n",
      "loss: 0.504125  [19264/60000]\n",
      "loss: 0.502156  [25664/60000]\n",
      "loss: 0.460831  [32064/60000]\n",
      "loss: 0.483418  [38464/60000]\n",
      "loss: 0.605201  [44864/60000]\n",
      "loss: 0.574892  [51264/60000]\n",
      "loss: 0.434605  [57664/60000]\n",
      "Test Error: \n",
      " Accuracy: 80.9%, Avg loss: 0.519393 \n",
      "\n",
      "Epoch 4\n",
      "+++++++++++++++++\n",
      "loss: 0.356912  [   64/60000]\n",
      "loss: 0.463841  [ 6464/60000]\n",
      "loss: 0.311324  [12864/60000]\n",
      "loss: 0.462453  [19264/60000]\n",
      "loss: 0.437111  [25664/60000]\n",
      "loss: 0.442635  [32064/60000]\n",
      "loss: 0.437989  [38464/60000]\n",
      "loss: 0.570538  [44864/60000]\n",
      "loss: 0.538239  [51264/60000]\n",
      "loss: 0.423075  [57664/60000]\n",
      "Test Error: \n",
      " Accuracy: 82.3%, Avg loss: 0.486300 \n",
      "\n",
      "Epoch 5\n",
      "+++++++++++++++++\n",
      "loss: 0.315094  [   64/60000]\n",
      "loss: 0.435079  [ 6464/60000]\n",
      "loss: 0.283971  [12864/60000]\n",
      "loss: 0.429957  [19264/60000]\n",
      "loss: 0.388448  [25664/60000]\n",
      "loss: 0.425456  [32064/60000]\n",
      "loss: 0.408214  [38464/60000]\n",
      "loss: 0.538845  [44864/60000]\n",
      "loss: 0.513334  [51264/60000]\n",
      "loss: 0.412732  [57664/60000]\n",
      "Test Error: \n",
      " Accuracy: 83.3%, Avg loss: 0.456956 \n",
      "\n",
      "Epoch 6\n",
      "+++++++++++++++++\n",
      "loss: 0.281930  [   64/60000]\n",
      "loss: 0.408495  [ 6464/60000]\n",
      "loss: 0.263284  [12864/60000]\n",
      "loss: 0.405461  [19264/60000]\n",
      "loss: 0.357413  [25664/60000]\n",
      "loss: 0.407220  [32064/60000]\n",
      "loss: 0.383138  [38464/60000]\n",
      "loss: 0.510340  [44864/60000]\n",
      "loss: 0.483325  [51264/60000]\n",
      "loss: 0.402761  [57664/60000]\n",
      "Test Error: \n",
      " Accuracy: 84.1%, Avg loss: 0.438076 \n",
      "\n",
      "Epoch 7\n",
      "+++++++++++++++++\n",
      "loss: 0.259853  [   64/60000]\n",
      "loss: 0.385897  [ 6464/60000]\n",
      "loss: 0.245297  [12864/60000]\n",
      "loss: 0.381353  [19264/60000]\n",
      "loss: 0.333962  [25664/60000]\n",
      "loss: 0.400636  [32064/60000]\n",
      "loss: 0.357602  [38464/60000]\n",
      "loss: 0.490429  [44864/60000]\n",
      "loss: 0.466357  [51264/60000]\n",
      "loss: 0.390116  [57664/60000]\n",
      "Test Error: \n",
      " Accuracy: 84.8%, Avg loss: 0.419093 \n",
      "\n",
      "Epoch 8\n",
      "+++++++++++++++++\n",
      "loss: 0.237265  [   64/60000]\n",
      "loss: 0.370231  [ 6464/60000]\n",
      "loss: 0.236074  [12864/60000]\n",
      "loss: 0.361186  [19264/60000]\n",
      "loss: 0.320235  [25664/60000]\n",
      "loss: 0.389845  [32064/60000]\n",
      "loss: 0.343853  [38464/60000]\n",
      "loss: 0.470422  [44864/60000]\n",
      "loss: 0.448285  [51264/60000]\n",
      "loss: 0.381117  [57664/60000]\n",
      "Test Error: \n",
      " Accuracy: 85.2%, Avg loss: 0.407472 \n",
      "\n",
      "Epoch 9\n",
      "+++++++++++++++++\n",
      "loss: 0.225827  [   64/60000]\n",
      "loss: 0.350252  [ 6464/60000]\n",
      "loss: 0.227921  [12864/60000]\n",
      "loss: 0.345701  [19264/60000]\n",
      "loss: 0.308981  [25664/60000]\n",
      "loss: 0.387227  [32064/60000]\n",
      "loss: 0.326969  [38464/60000]\n",
      "loss: 0.449451  [44864/60000]\n",
      "loss: 0.429831  [51264/60000]\n",
      "loss: 0.373257  [57664/60000]\n",
      "Test Error: \n",
      " Accuracy: 85.5%, Avg loss: 0.398761 \n",
      "\n",
      "Epoch 10\n",
      "+++++++++++++++++\n",
      "loss: 0.219132  [   64/60000]\n",
      "loss: 0.340965  [ 6464/60000]\n",
      "loss: 0.218509  [12864/60000]\n",
      "loss: 0.331935  [19264/60000]\n",
      "loss: 0.303865  [25664/60000]\n",
      "loss: 0.375175  [32064/60000]\n",
      "loss: 0.309919  [38464/60000]\n",
      "loss: 0.429316  [44864/60000]\n",
      "loss: 0.416175  [51264/60000]\n",
      "loss: 0.369664  [57664/60000]\n",
      "Test Error: \n",
      " Accuracy: 85.8%, Avg loss: 0.390969 \n",
      "\n",
      "Epoch 11\n",
      "+++++++++++++++++\n",
      "loss: 0.210622  [   64/60000]\n",
      "loss: 0.326724  [ 6464/60000]\n",
      "loss: 0.215657  [12864/60000]\n",
      "loss: 0.317664  [19264/60000]\n",
      "loss: 0.293288  [25664/60000]\n",
      "loss: 0.368110  [32064/60000]\n",
      "loss: 0.301466  [38464/60000]\n",
      "loss: 0.413311  [44864/60000]\n",
      "loss: 0.403125  [51264/60000]\n",
      "loss: 0.368308  [57664/60000]\n",
      "Test Error: \n",
      " Accuracy: 85.9%, Avg loss: 0.382915 \n",
      "\n",
      "Epoch 12\n",
      "+++++++++++++++++\n",
      "loss: 0.204274  [   64/60000]\n",
      "loss: 0.316943  [ 6464/60000]\n",
      "loss: 0.211459  [12864/60000]\n",
      "loss: 0.304628  [19264/60000]\n",
      "loss: 0.291253  [25664/60000]\n",
      "loss: 0.357096  [32064/60000]\n",
      "loss: 0.292153  [38464/60000]\n",
      "loss: 0.398595  [44864/60000]\n",
      "loss: 0.393291  [51264/60000]\n",
      "loss: 0.363827  [57664/60000]\n",
      "Test Error: \n",
      " Accuracy: 86.3%, Avg loss: 0.375481 \n",
      "\n",
      "Completed\n"
     ]
    }
   ],
   "source": [
    "epochs = 12\n",
    "for t in range(epochs):\n",
    "    print(f\"Epoch {t+1}\\n+++++++++++++++++\")\n",
    "    train_loop(train_dataloader, model, loss_fn, optimizer)\n",
    "    test_loop(test_dataloader, model, loss_fn)\n",
    "print(\"Completed\")"
   ]
  },
  {
   "cell_type": "code",
   "execution_count": null,
   "metadata": {},
   "outputs": [],
   "source": []
  },
  {
   "cell_type": "markdown",
   "metadata": {},
   "source": [
    "#### f) Save, load, and use model\n",
    "Complete the tutorial at https://pytorch.org/tutorials/beginner/basics/saveloadrun_tutorial.html. \n",
    "\n",
    "Add as many cells below as needed."
   ]
  },
  {
   "cell_type": "code",
   "execution_count": 82,
   "metadata": {},
   "outputs": [],
   "source": [
    "import torch\n",
    "import torchvision.models as models"
   ]
  },
  {
   "cell_type": "code",
   "execution_count": 83,
   "metadata": {},
   "outputs": [
    {
     "name": "stderr",
     "output_type": "stream",
     "text": [
      "/Users/bikashpokharel/opt/anaconda3/lib/python3.9/site-packages/torchvision/models/_utils.py:208: UserWarning: The parameter 'pretrained' is deprecated since 0.13 and may be removed in the future, please use 'weights' instead.\n",
      "  warnings.warn(\n",
      "/Users/bikashpokharel/opt/anaconda3/lib/python3.9/site-packages/torchvision/models/_utils.py:223: UserWarning: Arguments other than a weight enum or `None` for 'weights' are deprecated since 0.13 and may be removed in the future. The current behavior is equivalent to passing `weights=VGG16_Weights.IMAGENET1K_V1`. You can also use `weights=VGG16_Weights.DEFAULT` to get the most up-to-date weights.\n",
      "  warnings.warn(msg)\n",
      "Downloading: \"https://download.pytorch.org/models/vgg16-397923af.pth\" to /Users/bikashpokharel/.cache/torch/hub/checkpoints/vgg16-397923af.pth\n",
      "100%|████████████████████████████████████████| 528M/528M [00:13<00:00, 40.8MB/s]\n"
     ]
    }
   ],
   "source": [
    "mod = models.vgg16(pretrained=True)\n",
    "torch.save(mod.state_dict(), 'model_weights.pth')"
   ]
  },
  {
   "cell_type": "code",
   "execution_count": 84,
   "metadata": {},
   "outputs": [
    {
     "data": {
      "text/plain": [
       "VGG(\n",
       "  (features): Sequential(\n",
       "    (0): Conv2d(3, 64, kernel_size=(3, 3), stride=(1, 1), padding=(1, 1))\n",
       "    (1): ReLU(inplace=True)\n",
       "    (2): Conv2d(64, 64, kernel_size=(3, 3), stride=(1, 1), padding=(1, 1))\n",
       "    (3): ReLU(inplace=True)\n",
       "    (4): MaxPool2d(kernel_size=2, stride=2, padding=0, dilation=1, ceil_mode=False)\n",
       "    (5): Conv2d(64, 128, kernel_size=(3, 3), stride=(1, 1), padding=(1, 1))\n",
       "    (6): ReLU(inplace=True)\n",
       "    (7): Conv2d(128, 128, kernel_size=(3, 3), stride=(1, 1), padding=(1, 1))\n",
       "    (8): ReLU(inplace=True)\n",
       "    (9): MaxPool2d(kernel_size=2, stride=2, padding=0, dilation=1, ceil_mode=False)\n",
       "    (10): Conv2d(128, 256, kernel_size=(3, 3), stride=(1, 1), padding=(1, 1))\n",
       "    (11): ReLU(inplace=True)\n",
       "    (12): Conv2d(256, 256, kernel_size=(3, 3), stride=(1, 1), padding=(1, 1))\n",
       "    (13): ReLU(inplace=True)\n",
       "    (14): Conv2d(256, 256, kernel_size=(3, 3), stride=(1, 1), padding=(1, 1))\n",
       "    (15): ReLU(inplace=True)\n",
       "    (16): MaxPool2d(kernel_size=2, stride=2, padding=0, dilation=1, ceil_mode=False)\n",
       "    (17): Conv2d(256, 512, kernel_size=(3, 3), stride=(1, 1), padding=(1, 1))\n",
       "    (18): ReLU(inplace=True)\n",
       "    (19): Conv2d(512, 512, kernel_size=(3, 3), stride=(1, 1), padding=(1, 1))\n",
       "    (20): ReLU(inplace=True)\n",
       "    (21): Conv2d(512, 512, kernel_size=(3, 3), stride=(1, 1), padding=(1, 1))\n",
       "    (22): ReLU(inplace=True)\n",
       "    (23): MaxPool2d(kernel_size=2, stride=2, padding=0, dilation=1, ceil_mode=False)\n",
       "    (24): Conv2d(512, 512, kernel_size=(3, 3), stride=(1, 1), padding=(1, 1))\n",
       "    (25): ReLU(inplace=True)\n",
       "    (26): Conv2d(512, 512, kernel_size=(3, 3), stride=(1, 1), padding=(1, 1))\n",
       "    (27): ReLU(inplace=True)\n",
       "    (28): Conv2d(512, 512, kernel_size=(3, 3), stride=(1, 1), padding=(1, 1))\n",
       "    (29): ReLU(inplace=True)\n",
       "    (30): MaxPool2d(kernel_size=2, stride=2, padding=0, dilation=1, ceil_mode=False)\n",
       "  )\n",
       "  (avgpool): AdaptiveAvgPool2d(output_size=(7, 7))\n",
       "  (classifier): Sequential(\n",
       "    (0): Linear(in_features=25088, out_features=4096, bias=True)\n",
       "    (1): ReLU(inplace=True)\n",
       "    (2): Dropout(p=0.5, inplace=False)\n",
       "    (3): Linear(in_features=4096, out_features=4096, bias=True)\n",
       "    (4): ReLU(inplace=True)\n",
       "    (5): Dropout(p=0.5, inplace=False)\n",
       "    (6): Linear(in_features=4096, out_features=1000, bias=True)\n",
       "  )\n",
       ")"
      ]
     },
     "execution_count": 84,
     "metadata": {},
     "output_type": "execute_result"
    }
   ],
   "source": [
    "mod = models.vgg16() # we do not specify pretrained=True, i.e. do not load default weights\n",
    "mod.load_state_dict(torch.load('model_weights.pth'))\n",
    "mod.eval()"
   ]
  },
  {
   "cell_type": "code",
   "execution_count": 85,
   "metadata": {},
   "outputs": [],
   "source": [
    "# saving models with shape\n",
    "torch.save(mod, 'model.pth')\n",
    "# model saved in my current working dorectory as well"
   ]
  },
  {
   "cell_type": "code",
   "execution_count": 86,
   "metadata": {},
   "outputs": [],
   "source": [
    "# we can load module in this way\n",
    "mod = torch.load('model.pth')"
   ]
  },
  {
   "cell_type": "markdown",
   "metadata": {},
   "source": [
    "### Exercise\n",
    "### Q2\n",
    "#### a) \n",
    "Create a pytorch class for a neural network with 3 inputs, one hidden layer with 5 neurons and ReLU activatioin function, one output layer with 2 outputs. Use $torch.nn.init$ to initialize the biases to zeros and initialize the weights from a random distribution with vairiance $0.1$ and mean $0.0$.\n",
    "\n",
    "\n"
   ]
  },
  {
   "cell_type": "code",
   "execution_count": 111,
   "metadata": {},
   "outputs": [],
   "source": [
    "# code\n",
    "import torch\n",
    "import torch.nn as nn\n",
    "\n",
    "class MyNetwork(nn.Module):\n",
    "    def __init__(self):\n",
    "        super(MyNetwork, self).__init__()\n",
    "        self.hidden = nn.Linear(3, 5) # input size 3, output size 5\n",
    "        self.output = nn.Linear(5, 2) # input size 5, output size 2\n",
    "        \n",
    "        # Initialize biases to zeros\n",
    "        nn.init.zeros_(self.hidden.bias)\n",
    "        nn.init.zeros_(self.output.bias)\n",
    "        \n",
    "        # Initialize weights from a normal distribution with mean=0, variance=0.1\n",
    "        nn.init.normal_(self.hidden.weight, mean=0.0, std=0.1)\n",
    "        nn.init.normal_(self.output.weight, mean=0.0, std=0.1)\n",
    "        \n",
    "        # Use ReLU activation function for the hidden layer\n",
    "        self.activation = nn.ReLU()\n",
    "        \n",
    "    def forward(self, x):\n",
    "        x = self.hidden(x)\n",
    "        x = self.activation(x)\n",
    "        x = self.output(x)\n",
    "        return x"
   ]
  },
  {
   "cell_type": "markdown",
   "metadata": {},
   "source": [
    "#### b\n",
    "Instantiate the class to create a model. Access the weights and biases and print them.\n"
   ]
  },
  {
   "cell_type": "code",
   "execution_count": 101,
   "metadata": {},
   "outputs": [
    {
     "name": "stdout",
     "output_type": "stream",
     "text": [
      "Hidden layer weights:\n",
      " Parameter containing:\n",
      "tensor([[-0.0123,  0.0646, -0.0975],\n",
      "        [-0.0412,  0.0256, -0.0159],\n",
      "        [-0.0845,  0.0654, -0.0016],\n",
      "        [-0.0177, -0.0063, -0.0403],\n",
      "        [-0.0174,  0.0617,  0.0301]], requires_grad=True)\n",
      "Hidden layer biases:\n",
      " Parameter containing:\n",
      "tensor([0., 0., 0., 0., 0.], requires_grad=True)\n",
      "Output layer weights:\n",
      " Parameter containing:\n",
      "tensor([[ 0.0193,  0.1067, -0.0944,  0.0931,  0.0309],\n",
      "        [ 0.0639, -0.1796,  0.0314,  0.0224, -0.0507]], requires_grad=True)\n",
      "Output layer biases:\n",
      " Parameter containing:\n",
      "tensor([0., 0.], requires_grad=True)\n"
     ]
    }
   ],
   "source": [
    "# code\n",
    "\n",
    "# Instantiate the model\n",
    "model = MyNetwork()\n",
    "\n",
    "# Access the weights and biases of the hidden layer\n",
    "hidden_weights = model.hidden.weight\n",
    "hidden_biases = model.hidden.bias\n",
    "\n",
    "# Access the weights and biases of the output layer\n",
    "output_weights = model.output.weight\n",
    "output_biases = model.output.bias\n",
    "\n",
    "# Print the weights and biases\n",
    "print(\"Hidden layer weights:\\n\", hidden_weights)\n",
    "print(\"Hidden layer biases:\\n\", hidden_biases)\n",
    "print(\"Output layer weights:\\n\", output_weights)\n",
    "print(\"Output layer biases:\\n\", output_biases)\n"
   ]
  },
  {
   "cell_type": "markdown",
   "metadata": {},
   "source": [
    "#### c\n",
    "\n",
    "Create a tensor X with 2 samples and 3 features randomly from a uniform distribution. Suppose the labels are 0 and 1, respectively for these two samples."
   ]
  },
  {
   "cell_type": "code",
   "execution_count": 112,
   "metadata": {},
   "outputs": [],
   "source": [
    "\n",
    "# Create a tensor X with 2 samples and 3 features randomly from a uniform distribution.\n",
    "X = torch.rand((2, 3))\n",
    "\n",
    "# Suppose the labels are 0 and 1, respectively for these two samples.\n",
    "y_true = torch.tensor([0, 1])\n"
   ]
  },
  {
   "cell_type": "code",
   "execution_count": null,
   "metadata": {},
   "outputs": [],
   "source": []
  },
  {
   "cell_type": "markdown",
   "metadata": {},
   "source": [
    "#### d\n",
    "Define crossentropy"
   ]
  },
  {
   "cell_type": "code",
   "execution_count": 113,
   "metadata": {},
   "outputs": [],
   "source": [
    "# code\n",
    "# Define cross-entropy loss function\n",
    "loss_fn = nn.CrossEntropyLoss()"
   ]
  },
  {
   "cell_type": "markdown",
   "metadata": {},
   "source": [
    "#### e\n",
    "Define an optimizer with stochastic gradient descent. Set the learning rate to 0.1."
   ]
  },
  {
   "cell_type": "code",
   "execution_count": 114,
   "metadata": {},
   "outputs": [],
   "source": [
    "# code\n",
    "# Define an optimizer with stochastic gradient descent. Set the learning rate to 0.1.\n",
    "learning_rate = 0.1\n",
    "optimizer = torch.optim.SGD(model.parameters(), lr=learning_rate)"
   ]
  },
  {
   "cell_type": "markdown",
   "metadata": {},
   "source": [
    "#### f\n",
    "Set the gradients of the model to zero. Do backpropagation and find the jacobians of loss with respect to weights and biases in the first and second layers."
   ]
  },
  {
   "cell_type": "code",
   "execution_count": 115,
   "metadata": {},
   "outputs": [],
   "source": [
    "# code\n",
    "# Do forward pass and compute the predicted outputs\n",
    "y_pred = model(X)\n",
    "\n",
    "# Compute the loss between the predicted outputs and true labels\n",
    "loss = loss_fn(y_pred, y_true)\n",
    "\n",
    "# Do backpropagation to compute the gradients of the loss with respect to the parameters\n",
    "loss.backward()"
   ]
  },
  {
   "cell_type": "code",
   "execution_count": 116,
   "metadata": {},
   "outputs": [],
   "source": [
    "\n",
    "# Access the gradients of the weights and biases in the first and second layers\n",
    "hidden_weight_gradients = model.hidden.weight.grad\n",
    "hidden_bias_gradients = model.hidden.bias.grad\n",
    "output_weight_gradients = model .output.weight.grad\n",
    "output_bias_gradients = model.output.bias.grad"
   ]
  },
  {
   "cell_type": "markdown",
   "metadata": {},
   "source": [
    "#### g\n",
    "Update the parameters."
   ]
  },
  {
   "cell_type": "code",
   "execution_count": 117,
   "metadata": {},
   "outputs": [],
   "source": [
    "# code\n",
    "# Update the parameters using the gradients and the learning rate\n",
    "optimizer.step()"
   ]
  },
  {
   "cell_type": "code",
   "execution_count": 120,
   "metadata": {},
   "outputs": [
    {
     "name": "stdout",
     "output_type": "stream",
     "text": [
      "Hidden Weight weights:\n",
      " tensor([[-0.0015, -0.0104, -0.0066],\n",
      "        [ 0.0095,  0.0670,  0.0425],\n",
      "        [ 0.0039, -0.0045,  0.0109],\n",
      "        [ 0.0000,  0.0000,  0.0000],\n",
      "        [-0.0025,  0.0029, -0.0071]])\n",
      "Hidden Bias Gradients:\n",
      " tensor([-1.1157e-02,  7.1667e-02, -7.3727e-05,  0.0000e+00,  4.7870e-05])\n",
      "Output Weight Gradients:\n",
      " tensor([[ 0.0002,  0.0022,  0.0051,  0.0000,  0.0001],\n",
      "        [-0.0002, -0.0022, -0.0051,  0.0000, -0.0001]])\n",
      "Output Bias Gradients:\n",
      " tensor([ 0.0006, -0.0006])\n"
     ]
    }
   ],
   "source": [
    "# Print the weights and Gradients\n",
    "print(\"Hidden Weight weights:\\n\", hidden_weight_gradients)\n",
    "print(\"Hidden Bias Gradients:\\n\", hidden_bias_gradients)\n",
    "print(\"Output Weight Gradients:\\n\", output_weight_gradients)\n",
    "print(\"Output Bias Gradients:\\n\", output_bias_gradients)\n"
   ]
  },
  {
   "cell_type": "code",
   "execution_count": null,
   "metadata": {},
   "outputs": [],
   "source": []
  }
 ],
 "metadata": {
  "kernelspec": {
   "display_name": "Python 3 (ipykernel)",
   "language": "python",
   "name": "python3"
  },
  "language_info": {
   "codemirror_mode": {
    "name": "ipython",
    "version": 3
   },
   "file_extension": ".py",
   "mimetype": "text/x-python",
   "name": "python",
   "nbconvert_exporter": "python",
   "pygments_lexer": "ipython3",
   "version": "3.9.7"
  }
 },
 "nbformat": 4,
 "nbformat_minor": 4
}
